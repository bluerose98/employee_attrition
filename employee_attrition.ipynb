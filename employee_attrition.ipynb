{
 "cells": [
  {
   "cell_type": "markdown",
   "metadata": {},
   "source": [
    "# Employee Attrition Project"
   ]
  },
  {
   "cell_type": "markdown",
   "metadata": {},
   "source": [
    "by **Kevin Lacadin & Rosiel Villareal** | October 2019"
   ]
  },
  {
   "cell_type": "markdown",
   "metadata": {},
   "source": [
    "The main question we want to answer is:\n",
    "- **How might we address attrition to reduce overall costs in human resources?**"
   ]
  },
  {
   "attachments": {},
   "cell_type": "markdown",
   "metadata": {},
   "source": [
    "Specifically, we want to know:\n",
    "- What kinds of people resign?\n",
    "- When do they resign?\n",
    "- Why do they resign?\n",
    "\n",
    "So that we can:\n",
    "- Respond with person-specific interventions\n",
    "- Respond on-time before attrition happens\n",
    "- Address the factors that cause attrition"
   ]
  },
  {
   "cell_type": "markdown",
   "metadata": {},
   "source": [
    "## Methodology"
   ]
  },
  {
   "cell_type": "markdown",
   "metadata": {},
   "source": [
    "1. Importing libraries & dataset\n",
    "2. Preprocessing\n",
    "    - Cleaning\n",
    "    - Feature extraction\n",
    "    - Feature engineering\n",
    "3. Exploratory Analysis\n",
    "    - Distribution analysis per feature\n",
    "    - Analysis per cohort\n",
    "4. Modeling & Evaluation\n",
    "    - Logistic Regression\n",
    "    - Decision Trees Classification\n",
    "    - Random Forest Classification"
   ]
  },
  {
   "cell_type": "markdown",
   "metadata": {},
   "source": [
    "## 1. Importing libraries & dataset"
   ]
  },
  {
   "cell_type": "code",
   "execution_count": 1,
   "metadata": {},
   "outputs": [],
   "source": [
    "#Importing libraries\n",
    "import pandas as pd\n",
    "import numpy as np\n",
    "import matplotlib.pyplot as plt\n",
    "import seaborn as sns\n",
    "%matplotlib inline"
   ]
  },
  {
   "cell_type": "code",
   "execution_count": 2,
   "metadata": {},
   "outputs": [],
   "source": [
    "#Importing csv files of client 2\n",
    "client_department = pd.read_csv('client_department.csv')\n",
    "client_tbl = pd.read_csv('client_tbl.csv')\n",
    "employee_attendance = pd.read_csv('employee_attendance.csv')\n",
    "employee_contact = pd.read_csv('employee_contact.csv')\n",
    "employee_dependents = pd.read_csv('employee_dependents.csv')\n",
    "employee_leave = pd.read_csv('employee_leave.csv')\n",
    "employee_leavebalance = pd.read_csv('employee_leavebalance.csv')\n",
    "employee_shiftcode = pd.read_csv('employee_shiftcode.csv')\n",
    "employee_status = pd.read_csv('employee_status.csv')\n",
    "employee_tbl = pd.read_csv('employee_tbl.csv')\n",
    "position = pd.read_csv('position.csv')"
   ]
  },
  {
   "cell_type": "markdown",
   "metadata": {},
   "source": [
    "## 2. Preprocessing"
   ]
  },
  {
   "cell_type": "markdown",
   "metadata": {},
   "source": [
    "The features of the dataset can be divided into three categories:\n",
    "\n",
    "**1. Employment status history**\n",
    "    - Length of stay in company\n",
    "    - Position\n",
    "    - Monthly salary\n",
    "\n",
    "**2. Attendance** \n",
    "    - Hours overtime\n",
    "    - Hours leave\n",
    "    \n",
    "**3. Demographic**\n",
    "    - Gender\n",
    "    - Civil status\n",
    "    - Age when hired\n",
    "    - Number of dependents"
   ]
  },
  {
   "cell_type": "markdown",
   "metadata": {},
   "source": [
    "### 2.1 Employment status history"
   ]
  },
  {
   "cell_type": "markdown",
   "metadata": {},
   "source": [
    "#### 2.1.1 Length of stay in company"
   ]
  },
  {
   "cell_type": "code",
   "execution_count": 3,
   "metadata": {},
   "outputs": [],
   "source": [
    "#Compute length of stay in company\n",
    "from datetime import date, datetime\n",
    "\n",
    "def days_company(datehire, time_updated, jobstatus):\n",
    "    if jobstatus == 1: #if active, subtract date of hire from date today\n",
    "        return abs(date.today() - datetime.strptime(datehire, '%Y-%m-%d').date())\n",
    "    else: #else, subtract date of hire from date job status was updated\n",
    "        return abs(datetime.strptime(time_updated[:10], '%Y-%m-%d').date() - datetime.strptime(datehire, '%Y-%m-%d').date())\n",
    "\n",
    "employee_status['days_company'] = employee_status.apply(lambda row: days_company(row['datehire'],row['time_updated'],row['jobstatus']), axis=1)\n",
    "\n",
    "days_to_mos = lambda x: x/30\n",
    "employee_status['days_company'] = pd.to_numeric(employee_status['days_company'].dt.days, downcast='integer')\n",
    "employee_status['months_company'] = employee_status.apply(lambda row: days_to_mos(row['days_company']),axis=1)\n",
    "\n",
    "mos_to_yrs = lambda x: x/12\n",
    "employee_status['years_company'] = employee_status.apply(lambda row: mos_to_yrs(row['months_company']),axis=1)"
   ]
  },
  {
   "cell_type": "markdown",
   "metadata": {},
   "source": [
    "#### 2.2.2 - 2.2.3 Position + monthly salary (oldest & latest)"
   ]
  },
  {
   "cell_type": "code",
   "execution_count": 4,
   "metadata": {},
   "outputs": [],
   "source": [
    "#Get the latest info on employees\n",
    "latest_update = employee_status.sort_values(['employee_number', 'time_updated'])\n",
    "latest_update.drop_duplicates(subset =\"employee_number\", keep = 'last', inplace = True)\n",
    "latest_update.rename(columns={'basic_rate':'latest_rate', 'time_updated':'latest_time', 'position_id':'latest_position_id'},inplace=True)\n",
    "latest_update = latest_update.drop(columns=['joblevel','paymode','position_level','history','datehire'])\n",
    "\n",
    "#Get the oldest info on employees\n",
    "oldest_update = employee_status.sort_values(['employee_number', 'time_updated'])\n",
    "oldest_update.drop_duplicates(subset =\"employee_number\", keep = 'first', inplace = True) \n",
    "oldest_update.rename(columns={'basic_rate':'oldest_rate', 'time_updated':'oldest_time'},inplace=True)\n",
    "oldest_update = oldest_update.drop(columns=['jobstatus','joblevel','paymode','date_jobstatus','days_company','months_company','years_company','position_level','history','client_code','department_code','position_id'])\n",
    "\n",
    "status_df = pd.merge(latest_update, oldest_update, how='left', on='employee_number')"
   ]
  },
  {
   "cell_type": "code",
   "execution_count": 5,
   "metadata": {},
   "outputs": [],
   "source": [
    "#Categorize most common positions\n",
    "customer_rel = [97,98,99,100,101,102,103,104,105,106,173,174,175,176,189,193,196,236]\n",
    "catering = [12,13,14,15,16,18,37,65,207,208,218,234,235]\n",
    "execs = [145,169,179,206]\n",
    "finance = [9,10,84,212,215,56,57,58,147,210,211]\n",
    "hr = [31,32,33,126,128,129,197,242]\n",
    "supervisor = [17,28,41,49,51,63,64,69,172,190,194,199,200,201,202,203,205,222,223,225]\n",
    "manager = [19,26,29,42,43,50,177,178,198,230,239]\n",
    "maintenance = [86,87,88,89,90,91,92,93,94,182,183,184,185,186,187,188,30,116,117,118,119,123,124,125,132,209,217]\n",
    "\n",
    "def categorize_pos(pos):\n",
    "    if pos in customer_rel:\n",
    "        return \"Customer relations\"\n",
    "    elif pos in catering:\n",
    "        return \"Catering\"\n",
    "    elif pos in execs:\n",
    "        return \"Executives\"\n",
    "    elif pos in finance:\n",
    "        return \"Finance\"\n",
    "    elif pos in hr:\n",
    "        return \"HR\"\n",
    "    elif pos in supervisor:\n",
    "        return \"Supervisor\"\n",
    "    elif pos in manager:\n",
    "        return \"Manager\"\n",
    "    elif pos in maintenance:\n",
    "        return \"Maintenance\"\n",
    "    else:\n",
    "        return \"Others\"\n",
    "    \n",
    "status_df['position'] = status_df.apply(lambda row: categorize_pos(row['latest_position_id']),axis=1)"
   ]
  },
  {
   "cell_type": "code",
   "execution_count": 6,
   "metadata": {
    "scrolled": true
   },
   "outputs": [
    {
     "data": {
      "text/html": [
       "<div>\n",
       "<style scoped>\n",
       "    .dataframe tbody tr th:only-of-type {\n",
       "        vertical-align: middle;\n",
       "    }\n",
       "\n",
       "    .dataframe tbody tr th {\n",
       "        vertical-align: top;\n",
       "    }\n",
       "\n",
       "    .dataframe thead th {\n",
       "        text-align: right;\n",
       "    }\n",
       "</style>\n",
       "<table border=\"1\" class=\"dataframe\">\n",
       "  <thead>\n",
       "    <tr style=\"text-align: right;\">\n",
       "      <th></th>\n",
       "      <th>employee_number</th>\n",
       "      <th>jobstatus</th>\n",
       "      <th>client_code</th>\n",
       "      <th>department_code</th>\n",
       "      <th>latest_rate</th>\n",
       "      <th>date_jobstatus</th>\n",
       "      <th>latest_time</th>\n",
       "      <th>latest_position_id</th>\n",
       "      <th>days_company</th>\n",
       "      <th>months_company</th>\n",
       "      <th>years_company</th>\n",
       "      <th>datehire</th>\n",
       "      <th>oldest_rate</th>\n",
       "      <th>oldest_time</th>\n",
       "      <th>position</th>\n",
       "      <th>percent_salary_increase</th>\n",
       "    </tr>\n",
       "  </thead>\n",
       "  <tbody>\n",
       "    <tr>\n",
       "      <th>0</th>\n",
       "      <td>employee10</td>\n",
       "      <td>2</td>\n",
       "      <td>SLPI-AF</td>\n",
       "      <td>ACCTNG</td>\n",
       "      <td>13317.00</td>\n",
       "      <td>2017-02-25</td>\n",
       "      <td>2017-02-28 12:05:37</td>\n",
       "      <td>212</td>\n",
       "      <td>981</td>\n",
       "      <td>32.700000</td>\n",
       "      <td>2.725000</td>\n",
       "      <td>2014-06-23</td>\n",
       "      <td>13317.00</td>\n",
       "      <td>2016-11-11 15:30:25</td>\n",
       "      <td>Finance</td>\n",
       "      <td>0.000000</td>\n",
       "    </tr>\n",
       "    <tr>\n",
       "      <th>1</th>\n",
       "      <td>employee100</td>\n",
       "      <td>1</td>\n",
       "      <td>MNL-PSD</td>\n",
       "      <td>MNL-PSD</td>\n",
       "      <td>19497.30</td>\n",
       "      <td>2011-10-17</td>\n",
       "      <td>2018-12-13 15:24:02</td>\n",
       "      <td>199</td>\n",
       "      <td>2929</td>\n",
       "      <td>97.633333</td>\n",
       "      <td>8.136111</td>\n",
       "      <td>2011-10-17</td>\n",
       "      <td>12546.07</td>\n",
       "      <td>2016-11-11 15:30:38</td>\n",
       "      <td>Supervisor</td>\n",
       "      <td>55.405637</td>\n",
       "    </tr>\n",
       "    <tr>\n",
       "      <th>2</th>\n",
       "      <td>employee1000</td>\n",
       "      <td>5</td>\n",
       "      <td>SKPI-CF</td>\n",
       "      <td>CFS - 2ND SHIFT</td>\n",
       "      <td>13524.90</td>\n",
       "      <td>2018-01-26</td>\n",
       "      <td>2018-02-19 11:59:30</td>\n",
       "      <td>13</td>\n",
       "      <td>628</td>\n",
       "      <td>20.933333</td>\n",
       "      <td>1.744444</td>\n",
       "      <td>2016-06-01</td>\n",
       "      <td>12977.15</td>\n",
       "      <td>2016-12-22 16:17:49</td>\n",
       "      <td>Catering</td>\n",
       "      <td>4.220881</td>\n",
       "    </tr>\n",
       "    <tr>\n",
       "      <th>3</th>\n",
       "      <td>employee1001</td>\n",
       "      <td>1</td>\n",
       "      <td>MNL-RMP</td>\n",
       "      <td>MNL-RMP-GEO2</td>\n",
       "      <td>23199.83</td>\n",
       "      <td>2012-10-16</td>\n",
       "      <td>2018-12-14 13:16:36</td>\n",
       "      <td>194</td>\n",
       "      <td>2564</td>\n",
       "      <td>85.466667</td>\n",
       "      <td>7.122222</td>\n",
       "      <td>2012-10-16</td>\n",
       "      <td>15900.00</td>\n",
       "      <td>2016-11-11 15:30:44</td>\n",
       "      <td>Supervisor</td>\n",
       "      <td>45.910881</td>\n",
       "    </tr>\n",
       "    <tr>\n",
       "      <th>4</th>\n",
       "      <td>employee1002</td>\n",
       "      <td>1</td>\n",
       "      <td>SKPI-CF</td>\n",
       "      <td>CFS - 1ST SHIFT</td>\n",
       "      <td>14006.73</td>\n",
       "      <td>2016-05-12</td>\n",
       "      <td>2018-12-11 17:09:15</td>\n",
       "      <td>12</td>\n",
       "      <td>1260</td>\n",
       "      <td>42.000000</td>\n",
       "      <td>3.500000</td>\n",
       "      <td>2016-05-12</td>\n",
       "      <td>12546.07</td>\n",
       "      <td>2016-12-22 14:37:35</td>\n",
       "      <td>Catering</td>\n",
       "      <td>11.642371</td>\n",
       "    </tr>\n",
       "  </tbody>\n",
       "</table>\n",
       "</div>"
      ],
      "text/plain": [
       "  employee_number  jobstatus client_code  department_code  latest_rate  \\\n",
       "0      employee10          2     SLPI-AF           ACCTNG     13317.00   \n",
       "1     employee100          1     MNL-PSD          MNL-PSD     19497.30   \n",
       "2    employee1000          5     SKPI-CF  CFS - 2ND SHIFT     13524.90   \n",
       "3    employee1001          1     MNL-RMP     MNL-RMP-GEO2     23199.83   \n",
       "4    employee1002          1     SKPI-CF  CFS - 1ST SHIFT     14006.73   \n",
       "\n",
       "  date_jobstatus          latest_time  latest_position_id  days_company  \\\n",
       "0     2017-02-25  2017-02-28 12:05:37                 212           981   \n",
       "1     2011-10-17  2018-12-13 15:24:02                 199          2929   \n",
       "2     2018-01-26  2018-02-19 11:59:30                  13           628   \n",
       "3     2012-10-16  2018-12-14 13:16:36                 194          2564   \n",
       "4     2016-05-12  2018-12-11 17:09:15                  12          1260   \n",
       "\n",
       "   months_company  years_company    datehire  oldest_rate  \\\n",
       "0       32.700000       2.725000  2014-06-23     13317.00   \n",
       "1       97.633333       8.136111  2011-10-17     12546.07   \n",
       "2       20.933333       1.744444  2016-06-01     12977.15   \n",
       "3       85.466667       7.122222  2012-10-16     15900.00   \n",
       "4       42.000000       3.500000  2016-05-12     12546.07   \n",
       "\n",
       "           oldest_time    position  percent_salary_increase  \n",
       "0  2016-11-11 15:30:25     Finance                 0.000000  \n",
       "1  2016-11-11 15:30:38  Supervisor                55.405637  \n",
       "2  2016-12-22 16:17:49    Catering                 4.220881  \n",
       "3  2016-11-11 15:30:44  Supervisor                45.910881  \n",
       "4  2016-12-22 14:37:35    Catering                11.642371  "
      ]
     },
     "execution_count": 6,
     "metadata": {},
     "output_type": "execute_result"
    }
   ],
   "source": [
    "#Drop rows w/ 0 salary as oldest pay rate\n",
    "status_df = status_df.loc[status_df['oldest_rate']!=0]\n",
    "\n",
    "#Compute % salary increase of employees\n",
    "def salary_increase(latest_rate, oldest_rate):\n",
    "    return 100*((latest_rate - oldest_rate)/oldest_rate)\n",
    "\n",
    "status_df['percent_salary_increase'] = status_df.apply(lambda row: salary_increase(row['latest_rate'], row['oldest_rate']), axis=1)\n",
    "status_df.head()"
   ]
  },
  {
   "cell_type": "markdown",
   "metadata": {},
   "source": [
    "### 2.2 Attendance"
   ]
  },
  {
   "cell_type": "markdown",
   "metadata": {},
   "source": [
    "#### 2.2.1 Hours overtime"
   ]
  },
  {
   "cell_type": "code",
   "execution_count": 7,
   "metadata": {},
   "outputs": [],
   "source": [
    "#Get hours overtime from employee_attendance\n",
    "overtime_df = employee_attendance.groupby('employee_number')['appot'].agg(['sum'])\n",
    "overtime_df = overtime_df.rename(columns={'sum':'total_hrs_overtime'})\n",
    "\n",
    "#Get ratio of hrs overtime to days in company\n",
    "status_df = pd.merge(status_df, overtime_df, how='left', on='employee_number')\n",
    "\n",
    "def compute_overtime (days_company, total_hrs_overtime):\n",
    "    return total_hrs_overtime/days_company\n",
    "\n",
    "status_df['overtime_ratio'] = status_df.apply(lambda row: compute_overtime(row['days_company'], row['total_hrs_overtime']), axis=1)"
   ]
  },
  {
   "cell_type": "markdown",
   "metadata": {},
   "source": [
    "#### 2.2.2 Hours leave"
   ]
  },
  {
   "cell_type": "code",
   "execution_count": 8,
   "metadata": {
    "scrolled": false
   },
   "outputs": [
    {
     "data": {
      "text/html": [
       "<div>\n",
       "<style scoped>\n",
       "    .dataframe tbody tr th:only-of-type {\n",
       "        vertical-align: middle;\n",
       "    }\n",
       "\n",
       "    .dataframe tbody tr th {\n",
       "        vertical-align: top;\n",
       "    }\n",
       "\n",
       "    .dataframe thead th {\n",
       "        text-align: right;\n",
       "    }\n",
       "</style>\n",
       "<table border=\"1\" class=\"dataframe\">\n",
       "  <thead>\n",
       "    <tr style=\"text-align: right;\">\n",
       "      <th></th>\n",
       "      <th>employee_number</th>\n",
       "      <th>jobstatus</th>\n",
       "      <th>client_code</th>\n",
       "      <th>department_code</th>\n",
       "      <th>latest_rate</th>\n",
       "      <th>date_jobstatus</th>\n",
       "      <th>latest_time</th>\n",
       "      <th>latest_position_id</th>\n",
       "      <th>days_company</th>\n",
       "      <th>months_company</th>\n",
       "      <th>...</th>\n",
       "      <th>datehire</th>\n",
       "      <th>oldest_rate</th>\n",
       "      <th>oldest_time</th>\n",
       "      <th>position</th>\n",
       "      <th>percent_salary_increase</th>\n",
       "      <th>total_hrs_overtime</th>\n",
       "      <th>overtime_ratio</th>\n",
       "      <th>total_hrs_leave</th>\n",
       "      <th>no_leaves</th>\n",
       "      <th>leave_ratio</th>\n",
       "    </tr>\n",
       "  </thead>\n",
       "  <tbody>\n",
       "    <tr>\n",
       "      <th>0</th>\n",
       "      <td>employee10</td>\n",
       "      <td>2</td>\n",
       "      <td>SLPI-AF</td>\n",
       "      <td>ACCTNG</td>\n",
       "      <td>13317.00</td>\n",
       "      <td>2017-02-25</td>\n",
       "      <td>2017-02-28 12:05:37</td>\n",
       "      <td>212</td>\n",
       "      <td>981</td>\n",
       "      <td>32.700000</td>\n",
       "      <td>...</td>\n",
       "      <td>2014-06-23</td>\n",
       "      <td>13317.00</td>\n",
       "      <td>2016-11-11 15:30:25</td>\n",
       "      <td>Finance</td>\n",
       "      <td>0.000000</td>\n",
       "      <td>0.0</td>\n",
       "      <td>0.000000</td>\n",
       "      <td>NaN</td>\n",
       "      <td>NaN</td>\n",
       "      <td>NaN</td>\n",
       "    </tr>\n",
       "    <tr>\n",
       "      <th>1</th>\n",
       "      <td>employee100</td>\n",
       "      <td>1</td>\n",
       "      <td>MNL-PSD</td>\n",
       "      <td>MNL-PSD</td>\n",
       "      <td>19497.30</td>\n",
       "      <td>2011-10-17</td>\n",
       "      <td>2018-12-13 15:24:02</td>\n",
       "      <td>199</td>\n",
       "      <td>2929</td>\n",
       "      <td>97.633333</td>\n",
       "      <td>...</td>\n",
       "      <td>2011-10-17</td>\n",
       "      <td>12546.07</td>\n",
       "      <td>2016-11-11 15:30:38</td>\n",
       "      <td>Supervisor</td>\n",
       "      <td>55.405637</td>\n",
       "      <td>1893.5</td>\n",
       "      <td>0.646466</td>\n",
       "      <td>414.0</td>\n",
       "      <td>47.0</td>\n",
       "      <td>0.141345</td>\n",
       "    </tr>\n",
       "    <tr>\n",
       "      <th>2</th>\n",
       "      <td>employee1000</td>\n",
       "      <td>5</td>\n",
       "      <td>SKPI-CF</td>\n",
       "      <td>CFS - 2ND SHIFT</td>\n",
       "      <td>13524.90</td>\n",
       "      <td>2018-01-26</td>\n",
       "      <td>2018-02-19 11:59:30</td>\n",
       "      <td>13</td>\n",
       "      <td>628</td>\n",
       "      <td>20.933333</td>\n",
       "      <td>...</td>\n",
       "      <td>2016-06-01</td>\n",
       "      <td>12977.15</td>\n",
       "      <td>2016-12-22 16:17:49</td>\n",
       "      <td>Catering</td>\n",
       "      <td>4.220881</td>\n",
       "      <td>200.5</td>\n",
       "      <td>0.319268</td>\n",
       "      <td>414.0</td>\n",
       "      <td>47.0</td>\n",
       "      <td>0.659236</td>\n",
       "    </tr>\n",
       "    <tr>\n",
       "      <th>3</th>\n",
       "      <td>employee1001</td>\n",
       "      <td>1</td>\n",
       "      <td>MNL-RMP</td>\n",
       "      <td>MNL-RMP-GEO2</td>\n",
       "      <td>23199.83</td>\n",
       "      <td>2012-10-16</td>\n",
       "      <td>2018-12-14 13:16:36</td>\n",
       "      <td>194</td>\n",
       "      <td>2564</td>\n",
       "      <td>85.466667</td>\n",
       "      <td>...</td>\n",
       "      <td>2012-10-16</td>\n",
       "      <td>15900.00</td>\n",
       "      <td>2016-11-11 15:30:44</td>\n",
       "      <td>Supervisor</td>\n",
       "      <td>45.910881</td>\n",
       "      <td>147.5</td>\n",
       "      <td>0.057527</td>\n",
       "      <td>360.0</td>\n",
       "      <td>41.0</td>\n",
       "      <td>0.140406</td>\n",
       "    </tr>\n",
       "    <tr>\n",
       "      <th>4</th>\n",
       "      <td>employee1002</td>\n",
       "      <td>1</td>\n",
       "      <td>SKPI-CF</td>\n",
       "      <td>CFS - 1ST SHIFT</td>\n",
       "      <td>14006.73</td>\n",
       "      <td>2016-05-12</td>\n",
       "      <td>2018-12-11 17:09:15</td>\n",
       "      <td>12</td>\n",
       "      <td>1260</td>\n",
       "      <td>42.000000</td>\n",
       "      <td>...</td>\n",
       "      <td>2016-05-12</td>\n",
       "      <td>12546.07</td>\n",
       "      <td>2016-12-22 14:37:35</td>\n",
       "      <td>Catering</td>\n",
       "      <td>11.642371</td>\n",
       "      <td>654.0</td>\n",
       "      <td>0.519048</td>\n",
       "      <td>625.5</td>\n",
       "      <td>73.0</td>\n",
       "      <td>0.496429</td>\n",
       "    </tr>\n",
       "  </tbody>\n",
       "</table>\n",
       "<p>5 rows × 21 columns</p>\n",
       "</div>"
      ],
      "text/plain": [
       "  employee_number  jobstatus client_code  department_code  latest_rate  \\\n",
       "0      employee10          2     SLPI-AF           ACCTNG     13317.00   \n",
       "1     employee100          1     MNL-PSD          MNL-PSD     19497.30   \n",
       "2    employee1000          5     SKPI-CF  CFS - 2ND SHIFT     13524.90   \n",
       "3    employee1001          1     MNL-RMP     MNL-RMP-GEO2     23199.83   \n",
       "4    employee1002          1     SKPI-CF  CFS - 1ST SHIFT     14006.73   \n",
       "\n",
       "  date_jobstatus          latest_time  latest_position_id  days_company  \\\n",
       "0     2017-02-25  2017-02-28 12:05:37                 212           981   \n",
       "1     2011-10-17  2018-12-13 15:24:02                 199          2929   \n",
       "2     2018-01-26  2018-02-19 11:59:30                  13           628   \n",
       "3     2012-10-16  2018-12-14 13:16:36                 194          2564   \n",
       "4     2016-05-12  2018-12-11 17:09:15                  12          1260   \n",
       "\n",
       "   months_company  ...    datehire oldest_rate          oldest_time  \\\n",
       "0       32.700000  ...  2014-06-23    13317.00  2016-11-11 15:30:25   \n",
       "1       97.633333  ...  2011-10-17    12546.07  2016-11-11 15:30:38   \n",
       "2       20.933333  ...  2016-06-01    12977.15  2016-12-22 16:17:49   \n",
       "3       85.466667  ...  2012-10-16    15900.00  2016-11-11 15:30:44   \n",
       "4       42.000000  ...  2016-05-12    12546.07  2016-12-22 14:37:35   \n",
       "\n",
       "     position percent_salary_increase  total_hrs_overtime  overtime_ratio  \\\n",
       "0     Finance                0.000000                 0.0        0.000000   \n",
       "1  Supervisor               55.405637              1893.5        0.646466   \n",
       "2    Catering                4.220881               200.5        0.319268   \n",
       "3  Supervisor               45.910881               147.5        0.057527   \n",
       "4    Catering               11.642371               654.0        0.519048   \n",
       "\n",
       "   total_hrs_leave  no_leaves  leave_ratio  \n",
       "0              NaN        NaN          NaN  \n",
       "1            414.0       47.0     0.141345  \n",
       "2            414.0       47.0     0.659236  \n",
       "3            360.0       41.0     0.140406  \n",
       "4            625.5       73.0     0.496429  \n",
       "\n",
       "[5 rows x 21 columns]"
      ]
     },
     "execution_count": 8,
     "metadata": {},
     "output_type": "execute_result"
    }
   ],
   "source": [
    "#Compute no. of leaves & no. of total hrs leave from employee_leave\n",
    "leaves_df = employee_leave.groupby('employee_number')['number_of_hours'].agg(['sum','size'])\n",
    "leaves_df = leaves_df.rename(columns={'sum':'total_hrs_leave','size':'no_leaves'})\n",
    "\n",
    "#Get ratio of hrs leave to days in company\n",
    "status_df = pd.merge(status_df, leaves_df, how='left', on='employee_number')\n",
    "\n",
    "def compute_leaves (days_company, total_hrs_leave):\n",
    "    return total_hrs_leave/days_company\n",
    "\n",
    "status_df['leave_ratio'] = status_df.apply(lambda row: compute_leaves(row['days_company'], row['total_hrs_leave']), axis=1)\n",
    "status_df.head()"
   ]
  },
  {
   "cell_type": "markdown",
   "metadata": {},
   "source": [
    "### 2.3 Demographic"
   ]
  },
  {
   "cell_type": "markdown",
   "metadata": {},
   "source": [
    "#### 2.3.1 - 2.3.2 Gender + civil status"
   ]
  },
  {
   "cell_type": "code",
   "execution_count": 9,
   "metadata": {},
   "outputs": [],
   "source": [
    "employee_tbl = employee_tbl.drop(columns=['citizenship'])\n",
    "employee_tbl = employee_tbl.dropna(axis=0, how='any')\n",
    "\n",
    "employee_tbl['civil_status'].replace('S','1', inplace=True)\n",
    "employee_tbl['civil_status'].replace('M','2', inplace=True)\n",
    "employee_tbl['civil_status'].replace('1','Single', inplace=True)\n",
    "employee_tbl['civil_status'].replace('2','Married', inplace=True)\n",
    "employee_tbl['civil_status'].replace('3','Others', inplace=True)\n",
    "employee_tbl['civil_status'].replace('4','Others', inplace=True)"
   ]
  },
  {
   "cell_type": "markdown",
   "metadata": {},
   "source": [
    "#### 2.3.3 Age when hired "
   ]
  },
  {
   "cell_type": "code",
   "execution_count": 10,
   "metadata": {},
   "outputs": [],
   "source": [
    "employee_df = pd.merge(status_df, employee_tbl, how='left', on='employee_number')"
   ]
  },
  {
   "cell_type": "code",
   "execution_count": 11,
   "metadata": {},
   "outputs": [],
   "source": [
    "#Compute age at time of joining\n",
    "from datetime import date, datetime\n",
    "\n",
    "def compute_age (datehire, birth_date):\n",
    "    return abs(datetime.strptime(datehire, '%Y-%m-%d').date()- datetime.strptime(birth_date, '%m/%d/%Y').date())/365\n",
    "\n",
    "employee_df['age_joining'] = employee_df.apply(lambda row: compute_age (row['datehire'],row['birth_date']), axis=1) \n",
    "employee_df['age_joining'] = pd.to_numeric(employee_df['age_joining'].dt.days, downcast='integer')"
   ]
  },
  {
   "cell_type": "markdown",
   "metadata": {},
   "source": [
    "#### 2.3.4 Number of dependents"
   ]
  },
  {
   "cell_type": "code",
   "execution_count": 12,
   "metadata": {},
   "outputs": [],
   "source": [
    "employee_df = pd.merge(employee_df, employee_dependents, how='left', on='employee_number')\n",
    "employee_df['number_of_dependents'].fillna(0,inplace=True)"
   ]
  },
  {
   "cell_type": "code",
   "execution_count": 13,
   "metadata": {},
   "outputs": [
    {
     "data": {
      "text/plain": [
       "Index(['employee_number', 'jobstatus', 'client_code', 'department_code',\n",
       "       'latest_rate', 'date_jobstatus', 'latest_time', 'latest_position_id',\n",
       "       'days_company', 'months_company', 'years_company', 'datehire',\n",
       "       'oldest_rate', 'oldest_time', 'position', 'percent_salary_increase',\n",
       "       'total_hrs_overtime', 'overtime_ratio', 'total_hrs_leave', 'no_leaves',\n",
       "       'leave_ratio', 'birth_date', 'gender', 'civil_status', 'age_joining',\n",
       "       'number_of_dependents'],\n",
       "      dtype='object')"
      ]
     },
     "execution_count": 13,
     "metadata": {},
     "output_type": "execute_result"
    }
   ],
   "source": [
    "employee_df.columns"
   ]
  },
  {
   "cell_type": "markdown",
   "metadata": {},
   "source": [
    "## 3. Exploratory Analysis"
   ]
  },
  {
   "cell_type": "code",
   "execution_count": 14,
   "metadata": {},
   "outputs": [],
   "source": [
    "#Include only employees with jobstatus of 1 (active) or 2,5,6,7 (resigned, retired, terminated, end of contract)\n",
    "df = employee_df.loc[employee_df['jobstatus'].isin([1,2,5,6,7])]"
   ]
  },
  {
   "cell_type": "code",
   "execution_count": 15,
   "metadata": {},
   "outputs": [
    {
     "data": {
      "text/html": [
       "<div>\n",
       "<style scoped>\n",
       "    .dataframe tbody tr th:only-of-type {\n",
       "        vertical-align: middle;\n",
       "    }\n",
       "\n",
       "    .dataframe tbody tr th {\n",
       "        vertical-align: top;\n",
       "    }\n",
       "\n",
       "    .dataframe thead th {\n",
       "        text-align: right;\n",
       "    }\n",
       "</style>\n",
       "<table border=\"1\" class=\"dataframe\">\n",
       "  <thead>\n",
       "    <tr style=\"text-align: right;\">\n",
       "      <th></th>\n",
       "      <th>jobstatus</th>\n",
       "      <th>latest_rate</th>\n",
       "      <th>latest_position_id</th>\n",
       "      <th>days_company</th>\n",
       "      <th>months_company</th>\n",
       "      <th>years_company</th>\n",
       "      <th>oldest_rate</th>\n",
       "      <th>percent_salary_increase</th>\n",
       "      <th>total_hrs_overtime</th>\n",
       "      <th>overtime_ratio</th>\n",
       "      <th>total_hrs_leave</th>\n",
       "      <th>no_leaves</th>\n",
       "      <th>leave_ratio</th>\n",
       "      <th>age_joining</th>\n",
       "      <th>number_of_dependents</th>\n",
       "    </tr>\n",
       "  </thead>\n",
       "  <tbody>\n",
       "    <tr>\n",
       "      <th>count</th>\n",
       "      <td>3238.000000</td>\n",
       "      <td>3238.000000</td>\n",
       "      <td>3238.000000</td>\n",
       "      <td>3238.000000</td>\n",
       "      <td>3238.000000</td>\n",
       "      <td>3238.000000</td>\n",
       "      <td>3238.000000</td>\n",
       "      <td>3.238000e+03</td>\n",
       "      <td>2925.000000</td>\n",
       "      <td>2925.000000</td>\n",
       "      <td>2371.000000</td>\n",
       "      <td>2371.000000</td>\n",
       "      <td>2371.000000</td>\n",
       "      <td>3238.000000</td>\n",
       "      <td>3238.000000</td>\n",
       "    </tr>\n",
       "    <tr>\n",
       "      <th>mean</th>\n",
       "      <td>1.406424</td>\n",
       "      <td>16128.680874</td>\n",
       "      <td>117.058369</td>\n",
       "      <td>1342.985485</td>\n",
       "      <td>44.766183</td>\n",
       "      <td>3.730515</td>\n",
       "      <td>14403.909373</td>\n",
       "      <td>6.298559e+03</td>\n",
       "      <td>397.576896</td>\n",
       "      <td>0.366563</td>\n",
       "      <td>228.013918</td>\n",
       "      <td>26.133699</td>\n",
       "      <td>0.176119</td>\n",
       "      <td>29.973132</td>\n",
       "      <td>0.243360</td>\n",
       "    </tr>\n",
       "    <tr>\n",
       "      <th>std</th>\n",
       "      <td>0.994446</td>\n",
       "      <td>7749.556764</td>\n",
       "      <td>51.798092</td>\n",
       "      <td>976.585169</td>\n",
       "      <td>32.552839</td>\n",
       "      <td>2.712737</td>\n",
       "      <td>7828.473997</td>\n",
       "      <td>9.439388e+04</td>\n",
       "      <td>524.205389</td>\n",
       "      <td>0.393976</td>\n",
       "      <td>184.251853</td>\n",
       "      <td>21.175364</td>\n",
       "      <td>0.151636</td>\n",
       "      <td>10.791630</td>\n",
       "      <td>0.701786</td>\n",
       "    </tr>\n",
       "    <tr>\n",
       "      <th>min</th>\n",
       "      <td>1.000000</td>\n",
       "      <td>0.000000</td>\n",
       "      <td>9.000000</td>\n",
       "      <td>23.000000</td>\n",
       "      <td>0.766667</td>\n",
       "      <td>0.063889</td>\n",
       "      <td>1.000000</td>\n",
       "      <td>-1.000000e+02</td>\n",
       "      <td>0.000000</td>\n",
       "      <td>0.000000</td>\n",
       "      <td>4.500000</td>\n",
       "      <td>1.000000</td>\n",
       "      <td>0.004388</td>\n",
       "      <td>12.000000</td>\n",
       "      <td>0.000000</td>\n",
       "    </tr>\n",
       "    <tr>\n",
       "      <th>25%</th>\n",
       "      <td>1.000000</td>\n",
       "      <td>13171.375000</td>\n",
       "      <td>94.000000</td>\n",
       "      <td>463.000000</td>\n",
       "      <td>15.433333</td>\n",
       "      <td>1.286111</td>\n",
       "      <td>12546.070000</td>\n",
       "      <td>3.289963e+00</td>\n",
       "      <td>82.500000</td>\n",
       "      <td>0.084380</td>\n",
       "      <td>72.000000</td>\n",
       "      <td>8.000000</td>\n",
       "      <td>0.079457</td>\n",
       "      <td>22.000000</td>\n",
       "      <td>0.000000</td>\n",
       "    </tr>\n",
       "    <tr>\n",
       "      <th>50%</th>\n",
       "      <td>1.000000</td>\n",
       "      <td>14176.980000</td>\n",
       "      <td>100.000000</td>\n",
       "      <td>994.000000</td>\n",
       "      <td>33.133333</td>\n",
       "      <td>2.761111</td>\n",
       "      <td>13093.820000</td>\n",
       "      <td>6.972068e+00</td>\n",
       "      <td>196.500000</td>\n",
       "      <td>0.249576</td>\n",
       "      <td>211.500000</td>\n",
       "      <td>24.000000</td>\n",
       "      <td>0.133975</td>\n",
       "      <td>25.000000</td>\n",
       "      <td>0.000000</td>\n",
       "    </tr>\n",
       "    <tr>\n",
       "      <th>75%</th>\n",
       "      <td>1.000000</td>\n",
       "      <td>17139.830000</td>\n",
       "      <td>132.000000</td>\n",
       "      <td>2295.500000</td>\n",
       "      <td>76.516667</td>\n",
       "      <td>6.376389</td>\n",
       "      <td>15000.000000</td>\n",
       "      <td>1.444381e+01</td>\n",
       "      <td>495.500000</td>\n",
       "      <td>0.509810</td>\n",
       "      <td>333.000000</td>\n",
       "      <td>38.000000</td>\n",
       "      <td>0.234133</td>\n",
       "      <td>36.000000</td>\n",
       "      <td>0.000000</td>\n",
       "    </tr>\n",
       "    <tr>\n",
       "      <th>max</th>\n",
       "      <td>7.000000</td>\n",
       "      <td>81376.630000</td>\n",
       "      <td>242.000000</td>\n",
       "      <td>2957.000000</td>\n",
       "      <td>98.566667</td>\n",
       "      <td>8.213889</td>\n",
       "      <td>180000.000000</td>\n",
       "      <td>3.680866e+06</td>\n",
       "      <td>3724.500000</td>\n",
       "      <td>3.820000</td>\n",
       "      <td>1467.000000</td>\n",
       "      <td>177.000000</td>\n",
       "      <td>2.212963</td>\n",
       "      <td>71.000000</td>\n",
       "      <td>4.000000</td>\n",
       "    </tr>\n",
       "  </tbody>\n",
       "</table>\n",
       "</div>"
      ],
      "text/plain": [
       "         jobstatus   latest_rate  latest_position_id  days_company  \\\n",
       "count  3238.000000   3238.000000         3238.000000   3238.000000   \n",
       "mean      1.406424  16128.680874          117.058369   1342.985485   \n",
       "std       0.994446   7749.556764           51.798092    976.585169   \n",
       "min       1.000000      0.000000            9.000000     23.000000   \n",
       "25%       1.000000  13171.375000           94.000000    463.000000   \n",
       "50%       1.000000  14176.980000          100.000000    994.000000   \n",
       "75%       1.000000  17139.830000          132.000000   2295.500000   \n",
       "max       7.000000  81376.630000          242.000000   2957.000000   \n",
       "\n",
       "       months_company  years_company    oldest_rate  percent_salary_increase  \\\n",
       "count     3238.000000    3238.000000    3238.000000             3.238000e+03   \n",
       "mean        44.766183       3.730515   14403.909373             6.298559e+03   \n",
       "std         32.552839       2.712737    7828.473997             9.439388e+04   \n",
       "min          0.766667       0.063889       1.000000            -1.000000e+02   \n",
       "25%         15.433333       1.286111   12546.070000             3.289963e+00   \n",
       "50%         33.133333       2.761111   13093.820000             6.972068e+00   \n",
       "75%         76.516667       6.376389   15000.000000             1.444381e+01   \n",
       "max         98.566667       8.213889  180000.000000             3.680866e+06   \n",
       "\n",
       "       total_hrs_overtime  overtime_ratio  total_hrs_leave    no_leaves  \\\n",
       "count         2925.000000     2925.000000      2371.000000  2371.000000   \n",
       "mean           397.576896        0.366563       228.013918    26.133699   \n",
       "std            524.205389        0.393976       184.251853    21.175364   \n",
       "min              0.000000        0.000000         4.500000     1.000000   \n",
       "25%             82.500000        0.084380        72.000000     8.000000   \n",
       "50%            196.500000        0.249576       211.500000    24.000000   \n",
       "75%            495.500000        0.509810       333.000000    38.000000   \n",
       "max           3724.500000        3.820000      1467.000000   177.000000   \n",
       "\n",
       "       leave_ratio  age_joining  number_of_dependents  \n",
       "count  2371.000000  3238.000000           3238.000000  \n",
       "mean      0.176119    29.973132              0.243360  \n",
       "std       0.151636    10.791630              0.701786  \n",
       "min       0.004388    12.000000              0.000000  \n",
       "25%       0.079457    22.000000              0.000000  \n",
       "50%       0.133975    25.000000              0.000000  \n",
       "75%       0.234133    36.000000              0.000000  \n",
       "max       2.212963    71.000000              4.000000  "
      ]
     },
     "execution_count": 15,
     "metadata": {},
     "output_type": "execute_result"
    }
   ],
   "source": [
    "df.describe()"
   ]
  },
  {
   "cell_type": "code",
   "execution_count": 16,
   "metadata": {},
   "outputs": [
    {
     "name": "stderr",
     "output_type": "stream",
     "text": [
      "C:\\Users\\Rosiel Jazmine V\\Anaconda3\\lib\\site-packages\\ipykernel_launcher.py:3: SettingWithCopyWarning: \n",
      "A value is trying to be set on a copy of a slice from a DataFrame.\n",
      "Try using .loc[row_indexer,col_indexer] = value instead\n",
      "\n",
      "See the caveats in the documentation: http://pandas.pydata.org/pandas-docs/stable/indexing.html#indexing-view-versus-copy\n",
      "  This is separate from the ipykernel package so we can avoid doing imports until\n"
     ]
    },
    {
     "data": {
      "text/plain": [
       "[Text(0, 0.5, 'Years in company'), Text(0.5, 0, 'Job status')]"
      ]
     },
     "execution_count": 16,
     "metadata": {},
     "output_type": "execute_result"
    },
    {
     "data": {
      "image/png": "[encoded data removed]",
      "text/plain": [
       "<Figure size 432x432 with 1 Axes>"
      ]
     },
     "metadata": {},
     "output_type": "display_data"
    }
   ],
   "source": [
    "is_active = lambda x: \"Active\" if x==1 else \"Attrition\"\n",
    "\n",
    "df['is_active'] = df.apply(lambda row: is_active(row['jobstatus']), axis=1)\n",
    "\n",
    "#Boxplot of length of stay in company \n",
    "sns.set(style=\"whitegrid\")\n",
    "fig, ax = plt.subplots(figsize=(6,6))\n",
    "sns.boxplot(x=df['is_active'],y=df['years_company'],ax=ax)\n",
    "ax.set(xlabel='Job status', ylabel='Years in company')"
   ]
  },
  {
   "attachments": {},
   "cell_type": "markdown",
   "metadata": {},
   "source": [
    "Employees who resigned or were terminated stayed for about 4 years while employees who are still active have stayed for about 6 yrs."
   ]
  },
  {
   "cell_type": "code",
   "execution_count": 20,
   "metadata": {},
   "outputs": [
    {
     "data": {
      "text/plain": [
       "Text(0, 0.5, '')"
      ]
     },
     "execution_count": 20,
     "metadata": {},
     "output_type": "execute_result"
    },
    {
     "data": {
      "image/png": "[encoded data removed]",
      "text/plain": [
       "<Figure size 504x504 with 1 Axes>"
      ]
     },
     "metadata": {},
     "output_type": "display_data"
    }
   ],
   "source": [
    "import pylab\n",
    "        \n",
    "attr = pd.DataFrame({'count': [297, 225, 83, 40,163]},\n",
    "                   index=['Maintenance','Customer relations',\n",
    "                         'Catering','Supervisor','Others'])\n",
    "attr.plot.pie(subplots=True,figsize=(7,7), legend=False)\n",
    "pylab.ylabel('')"
   ]
  },
  {
   "cell_type": "markdown",
   "metadata": {},
   "source": [
    "Of the employee attrition subset…\n",
    "- Maintenance 37%\n",
    "- Customer relations 28%\n",
    "- Catering 10%\n",
    "- Supervisors 5%\n",
    "- Others 20% "
   ]
  },
  {
   "cell_type": "code",
   "execution_count": 21,
   "metadata": {},
   "outputs": [
    {
     "data": {
      "text/plain": [
       "[Text(0, 0.5, 'Monthly salary'), Text(0.5, 0, 'Job status')]"
      ]
     },
     "execution_count": 21,
     "metadata": {},
     "output_type": "execute_result"
    },
    {
     "data": {
      "image/png": "[encoded data removed]",
      "text/plain": [
       "<Figure size 432x432 with 1 Axes>"
      ]
     },
     "metadata": {},
     "output_type": "display_data"
    }
   ],
   "source": [
    "#Boxplot of salary\n",
    "sns.set(style=\"whitegrid\")\n",
    "fig, ax = plt.subplots(figsize=(6,6))\n",
    "sns.boxplot(x=df['is_active'],y=df['latest_rate'],ax=ax)\n",
    "ax.set(xlabel='Job status', ylabel='Monthly salary')"
   ]
  },
  {
   "cell_type": "code",
   "execution_count": 22,
   "metadata": {},
   "outputs": [
    {
     "data": {
      "text/plain": [
       "[Text(0, 0.5, 'Overtime ratio'), Text(0.5, 0, 'Job status')]"
      ]
     },
     "execution_count": 22,
     "metadata": {},
     "output_type": "execute_result"
    },
    {
     "data": {
      "image/png": "[encoded data removed]",
      "text/plain": [
       "<Figure size 432x432 with 1 Axes>"
      ]
     },
     "metadata": {},
     "output_type": "display_data"
    }
   ],
   "source": [
    "#Boxplot of overtime ratio\n",
    "sns.set(style=\"whitegrid\")\n",
    "fig, ax = plt.subplots(figsize=(6,6))\n",
    "sns.boxplot(x=df['is_active'],y=df['overtime_ratio'],ax=ax)\n",
    "ax.set(xlabel='Job status', ylabel='Overtime ratio')"
   ]
  },
  {
   "cell_type": "code",
   "execution_count": 23,
   "metadata": {},
   "outputs": [
    {
     "data": {
      "text/plain": [
       "[Text(0, 0.5, 'Leave ratio'), Text(0.5, 0, 'Job status')]"
      ]
     },
     "execution_count": 23,
     "metadata": {},
     "output_type": "execute_result"
    },
    {
     "data": {
      "image/png": "[encoded data removed]",
      "text/plain": [
       "<Figure size 432x432 with 1 Axes>"
      ]
     },
     "metadata": {},
     "output_type": "display_data"
    }
   ],
   "source": [
    "#Boxplot of leave ratio\n",
    "sns.set(style=\"whitegrid\")\n",
    "fig, ax = plt.subplots(figsize=(6,6))\n",
    "sns.boxplot(x=df['is_active'],y=df['leave_ratio'],ax=ax)\n",
    "ax.set(xlabel='Job status', ylabel='Leave ratio')"
   ]
  },
  {
   "cell_type": "markdown",
   "metadata": {},
   "source": [
    "### 3.1 Gender"
   ]
  },
  {
   "cell_type": "code",
   "execution_count": 24,
   "metadata": {},
   "outputs": [
    {
     "data": {
      "text/plain": [
       "[Text(0, 0.5, 'Attrition rate'), Text(0.5, 0, 'Gender')]"
      ]
     },
     "execution_count": 24,
     "metadata": {},
     "output_type": "execute_result"
    },
    {
     "data": {
      "image/png": "[encoded data removed]",
      "text/plain": [
       "<Figure size 504x504 with 1 Axes>"
      ]
     },
     "metadata": {},
     "output_type": "display_data"
    }
   ],
   "source": [
    "active_m = len(df.loc[(df['gender']=='M') & (df['jobstatus']==1)])\n",
    "attrition_m = len(df.loc[(df['gender']=='M') & (df['jobstatus'].isin([2,5,6,7]))])\n",
    "\n",
    "active_f = len(df.loc[(df['gender']=='F') & (df['jobstatus']==1)])\n",
    "attrition_f = len(df.loc[(df['gender']=='F') & (df['jobstatus'].isin([2,5,6,7]))])\n",
    "\n",
    "sns.set(style=\"whitegrid\")\n",
    "x=['Male' ,'Female']\n",
    "y=[attrition_m/(active_m+attrition_m), attrition_f/(active_f+attrition_f)]\n",
    "fig, ax = plt.subplots(figsize=(7,7)) \n",
    "sns.barplot(x=x, y=y)\n",
    "ax.set(xlabel='Gender', ylabel='Attrition rate')"
   ]
  },
  {
   "attachments": {},
   "cell_type": "markdown",
   "metadata": {},
   "source": [
    "Regardless of gender, about one-fourth of employees leave."
   ]
  },
  {
   "cell_type": "markdown",
   "metadata": {},
   "source": [
    "### 3.2 Civil status"
   ]
  },
  {
   "cell_type": "code",
   "execution_count": 25,
   "metadata": {},
   "outputs": [
    {
     "data": {
      "text/plain": [
       "[Text(0, 0.5, 'Attrition rate'), Text(0.5, 0, 'Civil Status')]"
      ]
     },
     "execution_count": 25,
     "metadata": {},
     "output_type": "execute_result"
    },
    {
     "data": {
      "image/png": "[encoded data removed]",
      "text/plain": [
       "<Figure size 504x504 with 1 Axes>"
      ]
     },
     "metadata": {},
     "output_type": "display_data"
    }
   ],
   "source": [
    "active_s = len(df.loc[(df['civil_status']=='Single') & (df['jobstatus']==1)])\n",
    "attrition_s = len(df.loc[(df['civil_status']=='Single') & (df['jobstatus'].isin([2,5,6,7]))])\n",
    "\n",
    "active_m = len(df.loc[(df['civil_status']=='Married') & (df['jobstatus']==1)])\n",
    "attrition_m = len(df.loc[(df['civil_status']=='Married') & (df['jobstatus'].isin([2,5,6,7]))])\n",
    "\n",
    "active_o = len(df.loc[(df['civil_status']=='Others') & (df['jobstatus']==1)])\n",
    "attrition_o = len(df.loc[(df['civil_status']=='Others') & (df['jobstatus'].isin([2,5,6,7]))])\n",
    "\n",
    "sns.set(style=\"whitegrid\")\n",
    "x=['Single' ,'Married', 'Others']\n",
    "y=[attrition_s/(active_s+attrition_s), attrition_m/(active_m+attrition_m),attrition_o/(active_o+attrition_o)]\n",
    "fig, ax = plt.subplots(figsize=(7,7)) \n",
    "sns.barplot(x=x, y=y)\n",
    "ax.set(xlabel='Civil Status', ylabel='Attrition rate')"
   ]
  },
  {
   "attachments": {},
   "cell_type": "markdown",
   "metadata": {},
   "source": [
    "Attrition: 10% higher for single employees than married ones"
   ]
  },
  {
   "cell_type": "markdown",
   "metadata": {},
   "source": [
    "### 3.3 Number of dependents"
   ]
  },
  {
   "cell_type": "code",
   "execution_count": 26,
   "metadata": {},
   "outputs": [
    {
     "name": "stderr",
     "output_type": "stream",
     "text": [
      "C:\\Users\\Rosiel Jazmine V\\Anaconda3\\lib\\site-packages\\ipykernel_launcher.py:3: SettingWithCopyWarning: \n",
      "A value is trying to be set on a copy of a slice from a DataFrame.\n",
      "Try using .loc[row_indexer,col_indexer] = value instead\n",
      "\n",
      "See the caveats in the documentation: http://pandas.pydata.org/pandas-docs/stable/indexing.html#indexing-view-versus-copy\n",
      "  This is separate from the ipykernel package so we can avoid doing imports until\n"
     ]
    },
    {
     "data": {
      "text/plain": [
       "[Text(0, 0.5, 'Attrition rate'), Text(0.5, 0, 'No. of dependents')]"
      ]
     },
     "execution_count": 26,
     "metadata": {},
     "output_type": "execute_result"
    },
    {
     "data": {
      "image/png": "[encoded data removed]",
      "text/plain": [
       "<Figure size 504x504 with 1 Axes>"
      ]
     },
     "metadata": {},
     "output_type": "display_data"
    }
   ],
   "source": [
    "with_dependents = lambda x: 0 if x==0.0 else '1 or more'\n",
    "\n",
    "df['no_of_dependents'] = df.apply(lambda row: with_dependents(row['number_of_dependents']), axis=1)\n",
    "\n",
    "active_n = len(df.loc[(df['no_of_dependents']==0.0) & (df['jobstatus']==1)])\n",
    "attrition_n = len(df.loc[(df['no_of_dependents']==0.0) & (df['jobstatus'].isin([2,5,6,7]))])\n",
    "\n",
    "active_1 = len(df.loc[(df['no_of_dependents']=='1 or more') & (df['jobstatus']==1)])\n",
    "attrition_1 = len(df.loc[(df['no_of_dependents']=='1 or more') & (df['jobstatus'].isin([2,5,6,7]))])\n",
    "\n",
    "sns.set(style=\"whitegrid\")\n",
    "x=['None', '1 or more']\n",
    "y=[attrition_n/(active_n+attrition_n), attrition_1/(active_1+attrition_1)]\n",
    "fig, ax = plt.subplots(figsize=(7,7)) \n",
    "sns.barplot(x=x, y=y)\n",
    "ax.set(xlabel='No. of dependents', ylabel='Attrition rate')"
   ]
  },
  {
   "attachments": {},
   "cell_type": "markdown",
   "metadata": {},
   "source": [
    "Attrition: 14% higher for employees with no dependents"
   ]
  },
  {
   "cell_type": "markdown",
   "metadata": {},
   "source": [
    "### 3.4 Generation"
   ]
  },
  {
   "cell_type": "code",
   "execution_count": 27,
   "metadata": {},
   "outputs": [
    {
     "name": "stderr",
     "output_type": "stream",
     "text": [
      "C:\\Users\\Rosiel Jazmine V\\Anaconda3\\lib\\site-packages\\ipykernel_launcher.py:16: SettingWithCopyWarning: \n",
      "A value is trying to be set on a copy of a slice from a DataFrame.\n",
      "Try using .loc[row_indexer,col_indexer] = value instead\n",
      "\n",
      "See the caveats in the documentation: http://pandas.pydata.org/pandas-docs/stable/indexing.html#indexing-view-versus-copy\n",
      "  app.launch_new_instance()\n"
     ]
    }
   ],
   "source": [
    "#Gen Z (1997 onwards or 22 & below) \n",
    "#Millenials (born 1980-1996 or 23-39)\n",
    "#Gen X (1965-1979 or 40-54)\n",
    "#Baby boomers (1943-1962 or 55-76)\n",
    "\n",
    "def bracket(age): #categorize into generations based on age brackets\n",
    "    if 12 <= age <= 22:\n",
    "        return \"Gen Z\"\n",
    "    elif 23 <= age <= 39:\n",
    "        return \"Millenials\"\n",
    "    elif 40 <= age <= 54:\n",
    "        return \"Gen X\"\n",
    "    else:\n",
    "        return \"Baby boomers\"\n",
    "\n",
    "df['generation'] = df.apply(lambda row: bracket(row['age_joining']), axis=1)"
   ]
  },
  {
   "cell_type": "code",
   "execution_count": 28,
   "metadata": {},
   "outputs": [
    {
     "data": {
      "text/plain": [
       "[Text(0, 0.5, 'Attrition rate'), Text(0.5, 0, 'Generation')]"
      ]
     },
     "execution_count": 28,
     "metadata": {},
     "output_type": "execute_result"
    },
    {
     "data": {
      "image/png": "[encoded data removed]",
      "text/plain": [
       "<Figure size 504x504 with 1 Axes>"
      ]
     },
     "metadata": {},
     "output_type": "display_data"
    }
   ],
   "source": [
    "active_z = len(df.loc[(df['generation']=='Gen Z') & (df['jobstatus']==1)])\n",
    "attrition_z = len(df.loc[(df['generation']=='Gen Z') & (df['jobstatus'].isin([2,5,6,7]))])\n",
    "\n",
    "active_m = len(df.loc[(df['generation']=='Millenials') & (df['jobstatus']==1)])\n",
    "attrition_m = len(df.loc[(df['generation']=='Millenials') & (df['jobstatus'].isin([2,5,6,7]))])\n",
    "\n",
    "active_x = len(df.loc[(df['generation']=='Gen X') & (df['jobstatus']==1)])\n",
    "attrition_x = len(df.loc[(df['generation']=='Gen X') & (df['jobstatus'].isin([2,5,6,7]))])\n",
    "\n",
    "active_b = len(df.loc[(df['generation']=='Baby boomers') & (df['jobstatus']==1)])\n",
    "attrition_b = len(df.loc[(df['generation']=='Baby boomers') & (df['jobstatus'].isin([2,5,6,7]))])\n",
    "\n",
    "sns.set(style=\"whitegrid\")\n",
    "x=['Gen Z (12-22)','Millennials (23-39)','Gen X (40-54)','Baby boomers (55-71)']\n",
    "y=[attrition_z/(active_z+attrition_z), attrition_m/(active_m+attrition_m), attrition_x/(active_x+attrition_x), attrition_b/(active_b+attrition_b)]\n",
    "\n",
    "fig, ax = plt.subplots(figsize=(7,7)) \n",
    "sns.barplot(x=x, y=y)\n",
    "ax.set(xlabel='Generation', ylabel='Attrition rate')"
   ]
  },
  {
   "cell_type": "markdown",
   "metadata": {},
   "source": [
    "Of Gen Z & millennial employees, more than one-fourth leave."
   ]
  },
  {
   "cell_type": "markdown",
   "metadata": {},
   "source": [
    "## 4. Modeling & Evaluation"
   ]
  },
  {
   "cell_type": "code",
   "execution_count": 29,
   "metadata": {},
   "outputs": [
    {
     "name": "stderr",
     "output_type": "stream",
     "text": [
      "C:\\Users\\Rosiel Jazmine V\\Anaconda3\\lib\\site-packages\\ipykernel_launcher.py:7: SettingWithCopyWarning: \n",
      "A value is trying to be set on a copy of a slice from a DataFrame.\n",
      "Try using .loc[row_indexer,col_indexer] = value instead\n",
      "\n",
      "See the caveats in the documentation: http://pandas.pydata.org/pandas-docs/stable/indexing.html#indexing-view-versus-copy\n",
      "  import sys\n",
      "C:\\Users\\Rosiel Jazmine V\\Anaconda3\\lib\\site-packages\\ipykernel_launcher.py:8: SettingWithCopyWarning: \n",
      "A value is trying to be set on a copy of a slice from a DataFrame.\n",
      "Try using .loc[row_indexer,col_indexer] = value instead\n",
      "\n",
      "See the caveats in the documentation: http://pandas.pydata.org/pandas-docs/stable/indexing.html#indexing-view-versus-copy\n",
      "  \n",
      "C:\\Users\\Rosiel Jazmine V\\Anaconda3\\lib\\site-packages\\ipykernel_launcher.py:9: SettingWithCopyWarning: \n",
      "A value is trying to be set on a copy of a slice from a DataFrame.\n",
      "Try using .loc[row_indexer,col_indexer] = value instead\n",
      "\n",
      "See the caveats in the documentation: http://pandas.pydata.org/pandas-docs/stable/indexing.html#indexing-view-versus-copy\n",
      "  if __name__ == '__main__':\n",
      "C:\\Users\\Rosiel Jazmine V\\Anaconda3\\lib\\site-packages\\ipykernel_launcher.py:10: SettingWithCopyWarning: \n",
      "A value is trying to be set on a copy of a slice from a DataFrame.\n",
      "Try using .loc[row_indexer,col_indexer] = value instead\n",
      "\n",
      "See the caveats in the documentation: http://pandas.pydata.org/pandas-docs/stable/indexing.html#indexing-view-versus-copy\n",
      "  # Remove the CWD from sys.path while we load stuff.\n"
     ]
    },
    {
     "data": {
      "text/html": [
       "<div>\n",
       "<style scoped>\n",
       "    .dataframe tbody tr th:only-of-type {\n",
       "        vertical-align: middle;\n",
       "    }\n",
       "\n",
       "    .dataframe tbody tr th {\n",
       "        vertical-align: top;\n",
       "    }\n",
       "\n",
       "    .dataframe thead th {\n",
       "        text-align: right;\n",
       "    }\n",
       "</style>\n",
       "<table border=\"1\" class=\"dataframe\">\n",
       "  <thead>\n",
       "    <tr style=\"text-align: right;\">\n",
       "      <th></th>\n",
       "      <th>employee_number</th>\n",
       "      <th>jobstatus</th>\n",
       "      <th>client_code</th>\n",
       "      <th>department_code</th>\n",
       "      <th>latest_rate</th>\n",
       "      <th>date_jobstatus</th>\n",
       "      <th>latest_time</th>\n",
       "      <th>latest_position_id</th>\n",
       "      <th>days_company</th>\n",
       "      <th>months_company</th>\n",
       "      <th>...</th>\n",
       "      <th>civil_status</th>\n",
       "      <th>age_joining</th>\n",
       "      <th>number_of_dependents</th>\n",
       "      <th>is_active</th>\n",
       "      <th>no_of_dependents</th>\n",
       "      <th>generation</th>\n",
       "      <th>resigned_in_6_mos</th>\n",
       "      <th>resigned_in_1_yr</th>\n",
       "      <th>resigned_in_2_yr</th>\n",
       "      <th>resigned_in_3_yr</th>\n",
       "    </tr>\n",
       "  </thead>\n",
       "  <tbody>\n",
       "    <tr>\n",
       "      <th>0</th>\n",
       "      <td>employee10</td>\n",
       "      <td>2</td>\n",
       "      <td>SLPI-AF</td>\n",
       "      <td>ACCTNG</td>\n",
       "      <td>13317.00</td>\n",
       "      <td>2017-02-25</td>\n",
       "      <td>2017-02-28 12:05:37</td>\n",
       "      <td>212</td>\n",
       "      <td>981</td>\n",
       "      <td>32.700000</td>\n",
       "      <td>...</td>\n",
       "      <td>Single</td>\n",
       "      <td>25</td>\n",
       "      <td>0.0</td>\n",
       "      <td>Attrition</td>\n",
       "      <td>0</td>\n",
       "      <td>Millenials</td>\n",
       "      <td>0</td>\n",
       "      <td>0</td>\n",
       "      <td>0</td>\n",
       "      <td>1</td>\n",
       "    </tr>\n",
       "    <tr>\n",
       "      <th>1</th>\n",
       "      <td>employee100</td>\n",
       "      <td>1</td>\n",
       "      <td>MNL-PSD</td>\n",
       "      <td>MNL-PSD</td>\n",
       "      <td>19497.30</td>\n",
       "      <td>2011-10-17</td>\n",
       "      <td>2018-12-13 15:24:02</td>\n",
       "      <td>199</td>\n",
       "      <td>2929</td>\n",
       "      <td>97.633333</td>\n",
       "      <td>...</td>\n",
       "      <td>Single</td>\n",
       "      <td>19</td>\n",
       "      <td>0.0</td>\n",
       "      <td>Active</td>\n",
       "      <td>0</td>\n",
       "      <td>Gen Z</td>\n",
       "      <td>0</td>\n",
       "      <td>0</td>\n",
       "      <td>0</td>\n",
       "      <td>0</td>\n",
       "    </tr>\n",
       "    <tr>\n",
       "      <th>2</th>\n",
       "      <td>employee1000</td>\n",
       "      <td>5</td>\n",
       "      <td>SKPI-CF</td>\n",
       "      <td>CFS - 2ND SHIFT</td>\n",
       "      <td>13524.90</td>\n",
       "      <td>2018-01-26</td>\n",
       "      <td>2018-02-19 11:59:30</td>\n",
       "      <td>13</td>\n",
       "      <td>628</td>\n",
       "      <td>20.933333</td>\n",
       "      <td>...</td>\n",
       "      <td>Married</td>\n",
       "      <td>40</td>\n",
       "      <td>0.0</td>\n",
       "      <td>Attrition</td>\n",
       "      <td>0</td>\n",
       "      <td>Gen X</td>\n",
       "      <td>0</td>\n",
       "      <td>0</td>\n",
       "      <td>1</td>\n",
       "      <td>1</td>\n",
       "    </tr>\n",
       "    <tr>\n",
       "      <th>3</th>\n",
       "      <td>employee1001</td>\n",
       "      <td>1</td>\n",
       "      <td>MNL-RMP</td>\n",
       "      <td>MNL-RMP-GEO2</td>\n",
       "      <td>23199.83</td>\n",
       "      <td>2012-10-16</td>\n",
       "      <td>2018-12-14 13:16:36</td>\n",
       "      <td>194</td>\n",
       "      <td>2564</td>\n",
       "      <td>85.466667</td>\n",
       "      <td>...</td>\n",
       "      <td>Single</td>\n",
       "      <td>24</td>\n",
       "      <td>0.0</td>\n",
       "      <td>Active</td>\n",
       "      <td>0</td>\n",
       "      <td>Millenials</td>\n",
       "      <td>0</td>\n",
       "      <td>0</td>\n",
       "      <td>0</td>\n",
       "      <td>0</td>\n",
       "    </tr>\n",
       "    <tr>\n",
       "      <th>4</th>\n",
       "      <td>employee1002</td>\n",
       "      <td>1</td>\n",
       "      <td>SKPI-CF</td>\n",
       "      <td>CFS - 1ST SHIFT</td>\n",
       "      <td>14006.73</td>\n",
       "      <td>2016-05-12</td>\n",
       "      <td>2018-12-11 17:09:15</td>\n",
       "      <td>12</td>\n",
       "      <td>1260</td>\n",
       "      <td>42.000000</td>\n",
       "      <td>...</td>\n",
       "      <td>Single</td>\n",
       "      <td>28</td>\n",
       "      <td>0.0</td>\n",
       "      <td>Active</td>\n",
       "      <td>0</td>\n",
       "      <td>Millenials</td>\n",
       "      <td>0</td>\n",
       "      <td>0</td>\n",
       "      <td>0</td>\n",
       "      <td>0</td>\n",
       "    </tr>\n",
       "  </tbody>\n",
       "</table>\n",
       "<p>5 rows × 33 columns</p>\n",
       "</div>"
      ],
      "text/plain": [
       "  employee_number  jobstatus client_code  department_code  latest_rate  \\\n",
       "0      employee10          2     SLPI-AF           ACCTNG     13317.00   \n",
       "1     employee100          1     MNL-PSD          MNL-PSD     19497.30   \n",
       "2    employee1000          5     SKPI-CF  CFS - 2ND SHIFT     13524.90   \n",
       "3    employee1001          1     MNL-RMP     MNL-RMP-GEO2     23199.83   \n",
       "4    employee1002          1     SKPI-CF  CFS - 1ST SHIFT     14006.73   \n",
       "\n",
       "  date_jobstatus          latest_time  latest_position_id  days_company  \\\n",
       "0     2017-02-25  2017-02-28 12:05:37                 212           981   \n",
       "1     2011-10-17  2018-12-13 15:24:02                 199          2929   \n",
       "2     2018-01-26  2018-02-19 11:59:30                  13           628   \n",
       "3     2012-10-16  2018-12-14 13:16:36                 194          2564   \n",
       "4     2016-05-12  2018-12-11 17:09:15                  12          1260   \n",
       "\n",
       "   months_company  ...  civil_status age_joining  number_of_dependents  \\\n",
       "0       32.700000  ...        Single          25                   0.0   \n",
       "1       97.633333  ...        Single          19                   0.0   \n",
       "2       20.933333  ...       Married          40                   0.0   \n",
       "3       85.466667  ...        Single          24                   0.0   \n",
       "4       42.000000  ...        Single          28                   0.0   \n",
       "\n",
       "   is_active no_of_dependents  generation  resigned_in_6_mos  \\\n",
       "0  Attrition                0  Millenials                  0   \n",
       "1     Active                0       Gen Z                  0   \n",
       "2  Attrition                0       Gen X                  0   \n",
       "3     Active                0  Millenials                  0   \n",
       "4     Active                0  Millenials                  0   \n",
       "\n",
       "   resigned_in_1_yr  resigned_in_2_yr  resigned_in_3_yr  \n",
       "0                 0                 0                 1  \n",
       "1                 0                 0                 0  \n",
       "2                 0                 1                 1  \n",
       "3                 0                 0                 0  \n",
       "4                 0                 0                 0  \n",
       "\n",
       "[5 rows x 33 columns]"
      ]
     },
     "execution_count": 29,
     "metadata": {},
     "output_type": "execute_result"
    }
   ],
   "source": [
    "#Create new variables indicating 1 for yes or 0 for no if employee resigned within specified time (6 mos, 1 yr, 2 yrs, 3 yrs)\n",
    "resigned_in_6_mos = lambda x: 1 if x <=6 else 0\n",
    "resigned_in_1_yr = lambda x: 1 if x <=1 else 0\n",
    "resigned_in_2_yr = lambda x: 1 if x <=2 else 0\n",
    "resigned_in_3_yr = lambda x: 1 if x <=3 else 0\n",
    "\n",
    "df['resigned_in_6_mos'] = df.apply(lambda row: resigned_in_6_mos(row['months_company']), axis=1)\n",
    "df['resigned_in_1_yr'] = df.apply(lambda row: resigned_in_1_yr(row['years_company']), axis=1)\n",
    "df['resigned_in_2_yr'] = df.apply(lambda row: resigned_in_2_yr(row['years_company']), axis=1)\n",
    "df['resigned_in_3_yr'] = df.apply(lambda row: resigned_in_3_yr(row['years_company']), axis=1)\n",
    "df.head()"
   ]
  },
  {
   "cell_type": "code",
   "execution_count": 30,
   "metadata": {},
   "outputs": [
    {
     "data": {
      "text/html": [
       "<div>\n",
       "<style scoped>\n",
       "    .dataframe tbody tr th:only-of-type {\n",
       "        vertical-align: middle;\n",
       "    }\n",
       "\n",
       "    .dataframe tbody tr th {\n",
       "        vertical-align: top;\n",
       "    }\n",
       "\n",
       "    .dataframe thead th {\n",
       "        text-align: right;\n",
       "    }\n",
       "</style>\n",
       "<table border=\"1\" class=\"dataframe\">\n",
       "  <thead>\n",
       "    <tr style=\"text-align: right;\">\n",
       "      <th></th>\n",
       "      <th>employee_number</th>\n",
       "      <th>jobstatus</th>\n",
       "      <th>client_code</th>\n",
       "      <th>latest_rate</th>\n",
       "      <th>months_company</th>\n",
       "      <th>years_company</th>\n",
       "      <th>oldest_rate</th>\n",
       "      <th>position</th>\n",
       "      <th>percent_salary_increase</th>\n",
       "      <th>overtime_ratio</th>\n",
       "      <th>leave_ratio</th>\n",
       "      <th>gender</th>\n",
       "      <th>civil_status</th>\n",
       "      <th>age_joining</th>\n",
       "      <th>number_of_dependents</th>\n",
       "      <th>generation</th>\n",
       "      <th>resigned_in_6_mos</th>\n",
       "      <th>resigned_in_1_yr</th>\n",
       "      <th>resigned_in_2_yr</th>\n",
       "      <th>resigned_in_3_yr</th>\n",
       "    </tr>\n",
       "  </thead>\n",
       "  <tbody>\n",
       "    <tr>\n",
       "      <th>0</th>\n",
       "      <td>employee10</td>\n",
       "      <td>2</td>\n",
       "      <td>SLPI-AF</td>\n",
       "      <td>13317.00</td>\n",
       "      <td>32.700000</td>\n",
       "      <td>2.725000</td>\n",
       "      <td>13317.00</td>\n",
       "      <td>Finance</td>\n",
       "      <td>0.000000</td>\n",
       "      <td>0.000000</td>\n",
       "      <td>NaN</td>\n",
       "      <td>F</td>\n",
       "      <td>Single</td>\n",
       "      <td>25</td>\n",
       "      <td>0.0</td>\n",
       "      <td>Millenials</td>\n",
       "      <td>0</td>\n",
       "      <td>0</td>\n",
       "      <td>0</td>\n",
       "      <td>1</td>\n",
       "    </tr>\n",
       "    <tr>\n",
       "      <th>1</th>\n",
       "      <td>employee100</td>\n",
       "      <td>1</td>\n",
       "      <td>MNL-PSD</td>\n",
       "      <td>19497.30</td>\n",
       "      <td>97.633333</td>\n",
       "      <td>8.136111</td>\n",
       "      <td>12546.07</td>\n",
       "      <td>Supervisor</td>\n",
       "      <td>55.405637</td>\n",
       "      <td>0.646466</td>\n",
       "      <td>0.141345</td>\n",
       "      <td>F</td>\n",
       "      <td>Single</td>\n",
       "      <td>19</td>\n",
       "      <td>0.0</td>\n",
       "      <td>Gen Z</td>\n",
       "      <td>0</td>\n",
       "      <td>0</td>\n",
       "      <td>0</td>\n",
       "      <td>0</td>\n",
       "    </tr>\n",
       "    <tr>\n",
       "      <th>2</th>\n",
       "      <td>employee1000</td>\n",
       "      <td>5</td>\n",
       "      <td>SKPI-CF</td>\n",
       "      <td>13524.90</td>\n",
       "      <td>20.933333</td>\n",
       "      <td>1.744444</td>\n",
       "      <td>12977.15</td>\n",
       "      <td>Catering</td>\n",
       "      <td>4.220881</td>\n",
       "      <td>0.319268</td>\n",
       "      <td>0.659236</td>\n",
       "      <td>M</td>\n",
       "      <td>Married</td>\n",
       "      <td>40</td>\n",
       "      <td>0.0</td>\n",
       "      <td>Gen X</td>\n",
       "      <td>0</td>\n",
       "      <td>0</td>\n",
       "      <td>1</td>\n",
       "      <td>1</td>\n",
       "    </tr>\n",
       "    <tr>\n",
       "      <th>3</th>\n",
       "      <td>employee1001</td>\n",
       "      <td>1</td>\n",
       "      <td>MNL-RMP</td>\n",
       "      <td>23199.83</td>\n",
       "      <td>85.466667</td>\n",
       "      <td>7.122222</td>\n",
       "      <td>15900.00</td>\n",
       "      <td>Supervisor</td>\n",
       "      <td>45.910881</td>\n",
       "      <td>0.057527</td>\n",
       "      <td>0.140406</td>\n",
       "      <td>M</td>\n",
       "      <td>Single</td>\n",
       "      <td>24</td>\n",
       "      <td>0.0</td>\n",
       "      <td>Millenials</td>\n",
       "      <td>0</td>\n",
       "      <td>0</td>\n",
       "      <td>0</td>\n",
       "      <td>0</td>\n",
       "    </tr>\n",
       "    <tr>\n",
       "      <th>4</th>\n",
       "      <td>employee1002</td>\n",
       "      <td>1</td>\n",
       "      <td>SKPI-CF</td>\n",
       "      <td>14006.73</td>\n",
       "      <td>42.000000</td>\n",
       "      <td>3.500000</td>\n",
       "      <td>12546.07</td>\n",
       "      <td>Catering</td>\n",
       "      <td>11.642371</td>\n",
       "      <td>0.519048</td>\n",
       "      <td>0.496429</td>\n",
       "      <td>M</td>\n",
       "      <td>Single</td>\n",
       "      <td>28</td>\n",
       "      <td>0.0</td>\n",
       "      <td>Millenials</td>\n",
       "      <td>0</td>\n",
       "      <td>0</td>\n",
       "      <td>0</td>\n",
       "      <td>0</td>\n",
       "    </tr>\n",
       "  </tbody>\n",
       "</table>\n",
       "</div>"
      ],
      "text/plain": [
       "  employee_number  jobstatus client_code  latest_rate  months_company  \\\n",
       "0      employee10          2     SLPI-AF     13317.00       32.700000   \n",
       "1     employee100          1     MNL-PSD     19497.30       97.633333   \n",
       "2    employee1000          5     SKPI-CF     13524.90       20.933333   \n",
       "3    employee1001          1     MNL-RMP     23199.83       85.466667   \n",
       "4    employee1002          1     SKPI-CF     14006.73       42.000000   \n",
       "\n",
       "   years_company  oldest_rate    position  percent_salary_increase  \\\n",
       "0       2.725000     13317.00     Finance                 0.000000   \n",
       "1       8.136111     12546.07  Supervisor                55.405637   \n",
       "2       1.744444     12977.15    Catering                 4.220881   \n",
       "3       7.122222     15900.00  Supervisor                45.910881   \n",
       "4       3.500000     12546.07    Catering                11.642371   \n",
       "\n",
       "   overtime_ratio  leave_ratio gender civil_status  age_joining  \\\n",
       "0        0.000000          NaN      F       Single           25   \n",
       "1        0.646466     0.141345      F       Single           19   \n",
       "2        0.319268     0.659236      M      Married           40   \n",
       "3        0.057527     0.140406      M       Single           24   \n",
       "4        0.519048     0.496429      M       Single           28   \n",
       "\n",
       "   number_of_dependents  generation  resigned_in_6_mos  resigned_in_1_yr  \\\n",
       "0                   0.0  Millenials                  0                 0   \n",
       "1                   0.0       Gen Z                  0                 0   \n",
       "2                   0.0       Gen X                  0                 0   \n",
       "3                   0.0  Millenials                  0                 0   \n",
       "4                   0.0  Millenials                  0                 0   \n",
       "\n",
       "   resigned_in_2_yr  resigned_in_3_yr  \n",
       "0                 0                 1  \n",
       "1                 0                 0  \n",
       "2                 1                 1  \n",
       "3                 0                 0  \n",
       "4                 0                 0  "
      ]
     },
     "execution_count": 30,
     "metadata": {},
     "output_type": "execute_result"
    }
   ],
   "source": [
    "#Drop all other columns that will not be used in modeling\n",
    "df = df.drop(columns=['department_code','date_jobstatus','latest_time','latest_position_id','is_active', 'no_of_dependents',\n",
    "                                   'days_company','datehire','oldest_time','birth_date','total_hrs_overtime','total_hrs_leave','no_leaves'])\n",
    "df.head()"
   ]
  },
  {
   "cell_type": "code",
   "execution_count": 31,
   "metadata": {},
   "outputs": [],
   "source": [
    "#Job status\n",
    "status_df = df[['employee_number','jobstatus']]"
   ]
  },
  {
   "cell_type": "code",
   "execution_count": 32,
   "metadata": {},
   "outputs": [
    {
     "name": "stderr",
     "output_type": "stream",
     "text": [
      "C:\\Users\\Rosiel Jazmine V\\Anaconda3\\lib\\site-packages\\ipykernel_launcher.py:13: SettingWithCopyWarning: \n",
      "A value is trying to be set on a copy of a slice from a DataFrame.\n",
      "Try using .loc[row_indexer,col_indexer] = value instead\n",
      "\n",
      "See the caveats in the documentation: http://pandas.pydata.org/pandas-docs/stable/indexing.html#indexing-view-versus-copy\n",
      "  del sys.path[0]\n",
      "C:\\Users\\Rosiel Jazmine V\\Anaconda3\\lib\\site-packages\\pandas\\core\\indexing.py:543: SettingWithCopyWarning: \n",
      "A value is trying to be set on a copy of a slice from a DataFrame.\n",
      "Try using .loc[row_indexer,col_indexer] = value instead\n",
      "\n",
      "See the caveats in the documentation: http://pandas.pydata.org/pandas-docs/stable/indexing.html#indexing-view-versus-copy\n",
      "  self.obj[item] = s\n"
     ]
    },
    {
     "data": {
      "text/html": [
       "<div>\n",
       "<style scoped>\n",
       "    .dataframe tbody tr th:only-of-type {\n",
       "        vertical-align: middle;\n",
       "    }\n",
       "\n",
       "    .dataframe tbody tr th {\n",
       "        vertical-align: top;\n",
       "    }\n",
       "\n",
       "    .dataframe thead th {\n",
       "        text-align: right;\n",
       "    }\n",
       "</style>\n",
       "<table border=\"1\" class=\"dataframe\">\n",
       "  <thead>\n",
       "    <tr style=\"text-align: right;\">\n",
       "      <th></th>\n",
       "      <th>employee_number</th>\n",
       "      <th>latest_rate</th>\n",
       "      <th>oldest_rate</th>\n",
       "      <th>number_of_dependents</th>\n",
       "      <th>age_joining</th>\n",
       "      <th>months_company</th>\n",
       "      <th>overtime_ratio</th>\n",
       "      <th>years_company</th>\n",
       "      <th>percent_salary_increase</th>\n",
       "      <th>leave_ratio</th>\n",
       "    </tr>\n",
       "  </thead>\n",
       "  <tbody>\n",
       "    <tr>\n",
       "      <th>0</th>\n",
       "      <td>employee10</td>\n",
       "      <td>-0.216704</td>\n",
       "      <td>0.090948</td>\n",
       "      <td>0.0</td>\n",
       "      <td>0.000000</td>\n",
       "      <td>-0.007094</td>\n",
       "      <td>-0.586643</td>\n",
       "      <td>-0.007094</td>\n",
       "      <td>-0.625082</td>\n",
       "      <td>NaN</td>\n",
       "    </tr>\n",
       "    <tr>\n",
       "      <th>1</th>\n",
       "      <td>employee100</td>\n",
       "      <td>1.340653</td>\n",
       "      <td>-0.223213</td>\n",
       "      <td>0.0</td>\n",
       "      <td>-0.428571</td>\n",
       "      <td>1.055935</td>\n",
       "      <td>0.932917</td>\n",
       "      <td>1.055935</td>\n",
       "      <td>4.342318</td>\n",
       "      <td>0.047646</td>\n",
       "    </tr>\n",
       "    <tr>\n",
       "      <th>2</th>\n",
       "      <td>employee1000</td>\n",
       "      <td>-0.164316</td>\n",
       "      <td>-0.047544</td>\n",
       "      <td>0.0</td>\n",
       "      <td>1.071429</td>\n",
       "      <td>-0.199727</td>\n",
       "      <td>0.163815</td>\n",
       "      <td>-0.199727</td>\n",
       "      <td>-0.246658</td>\n",
       "      <td>3.395866</td>\n",
       "    </tr>\n",
       "    <tr>\n",
       "      <th>3</th>\n",
       "      <td>employee1001</td>\n",
       "      <td>2.273643</td>\n",
       "      <td>1.143545</td>\n",
       "      <td>0.0</td>\n",
       "      <td>-0.071429</td>\n",
       "      <td>0.856753</td>\n",
       "      <td>-0.451422</td>\n",
       "      <td>0.856753</td>\n",
       "      <td>3.491064</td>\n",
       "      <td>0.041572</td>\n",
       "    </tr>\n",
       "    <tr>\n",
       "      <th>4</th>\n",
       "      <td>employee1002</td>\n",
       "      <td>-0.042901</td>\n",
       "      <td>-0.223213</td>\n",
       "      <td>0.0</td>\n",
       "      <td>0.214286</td>\n",
       "      <td>0.145157</td>\n",
       "      <td>0.633411</td>\n",
       "      <td>0.145157</td>\n",
       "      <td>0.418717</td>\n",
       "      <td>2.343300</td>\n",
       "    </tr>\n",
       "  </tbody>\n",
       "</table>\n",
       "</div>"
      ],
      "text/plain": [
       "  employee_number  latest_rate  oldest_rate  number_of_dependents  \\\n",
       "0      employee10    -0.216704     0.090948                   0.0   \n",
       "1     employee100     1.340653    -0.223213                   0.0   \n",
       "2    employee1000    -0.164316    -0.047544                   0.0   \n",
       "3    employee1001     2.273643     1.143545                   0.0   \n",
       "4    employee1002    -0.042901    -0.223213                   0.0   \n",
       "\n",
       "   age_joining  months_company  overtime_ratio  years_company  \\\n",
       "0     0.000000       -0.007094       -0.586643      -0.007094   \n",
       "1    -0.428571        1.055935        0.932917       1.055935   \n",
       "2     1.071429       -0.199727        0.163815      -0.199727   \n",
       "3    -0.071429        0.856753       -0.451422       0.856753   \n",
       "4     0.214286        0.145157        0.633411       0.145157   \n",
       "\n",
       "   percent_salary_increase  leave_ratio  \n",
       "0                -0.625082          NaN  \n",
       "1                 4.342318     0.047646  \n",
       "2                -0.246658     3.395866  \n",
       "3                 3.491064     0.041572  \n",
       "4                 0.418717     2.343300  "
      ]
     },
     "execution_count": 32,
     "metadata": {},
     "output_type": "execute_result"
    }
   ],
   "source": [
    "#Scale continuous variables\n",
    "norm_df = df[['employee_number', 'latest_rate', 'oldest_rate', 'number_of_dependents', \n",
    "                  'age_joining', 'months_company', 'overtime_ratio', 'years_company', \n",
    "                  'percent_salary_increase', 'leave_ratio']]\n",
    "\n",
    "from sklearn import preprocessing\n",
    "robust_scaler = preprocessing.RobustScaler()\n",
    "#Scales features using statistics that are robust to outliers.\n",
    "#This scaler removes the median and scales the data according to the quantile range (defaults to IQR: Interquartile Range). The IQR is the range between the 1st quartile (25th quantile) and the 3rd quartile (75th quantile).\n",
    "\n",
    "norm_df[['latest_rate', 'oldest_rate', 'number_of_dependents','age_joining', 'months_company', 'overtime_ratio', \n",
    "         'years_company', 'percent_salary_increase', 'leave_ratio']] = robust_scaler.fit_transform(norm_df[['latest_rate', 'oldest_rate', 'number_of_dependents', \n",
    "        'age_joining', 'months_company', 'overtime_ratio', 'years_company', 'percent_salary_increase', 'leave_ratio']])\n",
    "\n",
    "norm_df.head()"
   ]
  },
  {
   "cell_type": "code",
   "execution_count": 33,
   "metadata": {},
   "outputs": [
    {
     "data": {
      "text/html": [
       "<div>\n",
       "<style scoped>\n",
       "    .dataframe tbody tr th:only-of-type {\n",
       "        vertical-align: middle;\n",
       "    }\n",
       "\n",
       "    .dataframe tbody tr th {\n",
       "        vertical-align: top;\n",
       "    }\n",
       "\n",
       "    .dataframe thead th {\n",
       "        text-align: right;\n",
       "    }\n",
       "</style>\n",
       "<table border=\"1\" class=\"dataframe\">\n",
       "  <thead>\n",
       "    <tr style=\"text-align: right;\">\n",
       "      <th></th>\n",
       "      <th>employee_number</th>\n",
       "      <th>resigned_in_6_mos</th>\n",
       "      <th>resigned_in_1_yr</th>\n",
       "      <th>resigned_in_2_yr</th>\n",
       "      <th>resigned_in_3_yr</th>\n",
       "      <th>client_code_CEB-CRG</th>\n",
       "      <th>client_code_CEB-EO</th>\n",
       "      <th>client_code_CEB-GEM</th>\n",
       "      <th>client_code_CEB-HR</th>\n",
       "      <th>client_code_CEB-MAB</th>\n",
       "      <th>...</th>\n",
       "      <th>civil_status_Single</th>\n",
       "      <th>position_Catering</th>\n",
       "      <th>position_Customer relations</th>\n",
       "      <th>position_Executives</th>\n",
       "      <th>position_Finance</th>\n",
       "      <th>position_HR</th>\n",
       "      <th>position_Maintenance</th>\n",
       "      <th>position_Manager</th>\n",
       "      <th>position_Others</th>\n",
       "      <th>position_Supervisor</th>\n",
       "    </tr>\n",
       "  </thead>\n",
       "  <tbody>\n",
       "    <tr>\n",
       "      <th>0</th>\n",
       "      <td>employee10</td>\n",
       "      <td>0</td>\n",
       "      <td>0</td>\n",
       "      <td>0</td>\n",
       "      <td>1</td>\n",
       "      <td>0</td>\n",
       "      <td>0</td>\n",
       "      <td>0</td>\n",
       "      <td>0</td>\n",
       "      <td>0</td>\n",
       "      <td>...</td>\n",
       "      <td>1</td>\n",
       "      <td>0</td>\n",
       "      <td>0</td>\n",
       "      <td>0</td>\n",
       "      <td>1</td>\n",
       "      <td>0</td>\n",
       "      <td>0</td>\n",
       "      <td>0</td>\n",
       "      <td>0</td>\n",
       "      <td>0</td>\n",
       "    </tr>\n",
       "    <tr>\n",
       "      <th>1</th>\n",
       "      <td>employee100</td>\n",
       "      <td>0</td>\n",
       "      <td>0</td>\n",
       "      <td>0</td>\n",
       "      <td>0</td>\n",
       "      <td>0</td>\n",
       "      <td>0</td>\n",
       "      <td>0</td>\n",
       "      <td>0</td>\n",
       "      <td>0</td>\n",
       "      <td>...</td>\n",
       "      <td>1</td>\n",
       "      <td>0</td>\n",
       "      <td>0</td>\n",
       "      <td>0</td>\n",
       "      <td>0</td>\n",
       "      <td>0</td>\n",
       "      <td>0</td>\n",
       "      <td>0</td>\n",
       "      <td>0</td>\n",
       "      <td>1</td>\n",
       "    </tr>\n",
       "    <tr>\n",
       "      <th>2</th>\n",
       "      <td>employee1000</td>\n",
       "      <td>0</td>\n",
       "      <td>0</td>\n",
       "      <td>1</td>\n",
       "      <td>1</td>\n",
       "      <td>0</td>\n",
       "      <td>0</td>\n",
       "      <td>0</td>\n",
       "      <td>0</td>\n",
       "      <td>0</td>\n",
       "      <td>...</td>\n",
       "      <td>0</td>\n",
       "      <td>1</td>\n",
       "      <td>0</td>\n",
       "      <td>0</td>\n",
       "      <td>0</td>\n",
       "      <td>0</td>\n",
       "      <td>0</td>\n",
       "      <td>0</td>\n",
       "      <td>0</td>\n",
       "      <td>0</td>\n",
       "    </tr>\n",
       "    <tr>\n",
       "      <th>3</th>\n",
       "      <td>employee1001</td>\n",
       "      <td>0</td>\n",
       "      <td>0</td>\n",
       "      <td>0</td>\n",
       "      <td>0</td>\n",
       "      <td>0</td>\n",
       "      <td>0</td>\n",
       "      <td>0</td>\n",
       "      <td>0</td>\n",
       "      <td>0</td>\n",
       "      <td>...</td>\n",
       "      <td>1</td>\n",
       "      <td>0</td>\n",
       "      <td>0</td>\n",
       "      <td>0</td>\n",
       "      <td>0</td>\n",
       "      <td>0</td>\n",
       "      <td>0</td>\n",
       "      <td>0</td>\n",
       "      <td>0</td>\n",
       "      <td>1</td>\n",
       "    </tr>\n",
       "    <tr>\n",
       "      <th>4</th>\n",
       "      <td>employee1002</td>\n",
       "      <td>0</td>\n",
       "      <td>0</td>\n",
       "      <td>0</td>\n",
       "      <td>0</td>\n",
       "      <td>0</td>\n",
       "      <td>0</td>\n",
       "      <td>0</td>\n",
       "      <td>0</td>\n",
       "      <td>0</td>\n",
       "      <td>...</td>\n",
       "      <td>1</td>\n",
       "      <td>1</td>\n",
       "      <td>0</td>\n",
       "      <td>0</td>\n",
       "      <td>0</td>\n",
       "      <td>0</td>\n",
       "      <td>0</td>\n",
       "      <td>0</td>\n",
       "      <td>0</td>\n",
       "      <td>0</td>\n",
       "    </tr>\n",
       "  </tbody>\n",
       "</table>\n",
       "<p>5 rows × 68 columns</p>\n",
       "</div>"
      ],
      "text/plain": [
       "  employee_number  resigned_in_6_mos  resigned_in_1_yr  resigned_in_2_yr  \\\n",
       "0      employee10                  0                 0                 0   \n",
       "1     employee100                  0                 0                 0   \n",
       "2    employee1000                  0                 0                 1   \n",
       "3    employee1001                  0                 0                 0   \n",
       "4    employee1002                  0                 0                 0   \n",
       "\n",
       "   resigned_in_3_yr  client_code_CEB-CRG  client_code_CEB-EO  \\\n",
       "0                 1                    0                   0   \n",
       "1                 0                    0                   0   \n",
       "2                 1                    0                   0   \n",
       "3                 0                    0                   0   \n",
       "4                 0                    0                   0   \n",
       "\n",
       "   client_code_CEB-GEM  client_code_CEB-HR  client_code_CEB-MAB  ...  \\\n",
       "0                    0                   0                    0  ...   \n",
       "1                    0                   0                    0  ...   \n",
       "2                    0                   0                    0  ...   \n",
       "3                    0                   0                    0  ...   \n",
       "4                    0                   0                    0  ...   \n",
       "\n",
       "   civil_status_Single  position_Catering  position_Customer relations  \\\n",
       "0                    1                  0                            0   \n",
       "1                    1                  0                            0   \n",
       "2                    0                  1                            0   \n",
       "3                    1                  0                            0   \n",
       "4                    1                  1                            0   \n",
       "\n",
       "   position_Executives  position_Finance  position_HR  position_Maintenance  \\\n",
       "0                    0                 1            0                     0   \n",
       "1                    0                 0            0                     0   \n",
       "2                    0                 0            0                     0   \n",
       "3                    0                 0            0                     0   \n",
       "4                    0                 0            0                     0   \n",
       "\n",
       "   position_Manager  position_Others  position_Supervisor  \n",
       "0                 0                0                    0  \n",
       "1                 0                0                    1  \n",
       "2                 0                0                    0  \n",
       "3                 0                0                    1  \n",
       "4                 0                0                    0  \n",
       "\n",
       "[5 rows x 68 columns]"
      ]
     },
     "execution_count": 33,
     "metadata": {},
     "output_type": "execute_result"
    }
   ],
   "source": [
    "#Encode categorical variables\n",
    "cat = ['client_code','gender', 'civil_status','position']\n",
    "cat_df = df[['employee_number','client_code','gender', 'civil_status','position','resigned_in_6_mos',\n",
    "                'resigned_in_1_yr','resigned_in_2_yr','resigned_in_3_yr']]\n",
    "cat_df = pd.get_dummies(cat_df, columns=cat)\n",
    "#Converts categorical variable into dummy/indicator variables.\n",
    "cat_df.head()"
   ]
  },
  {
   "cell_type": "code",
   "execution_count": 34,
   "metadata": {},
   "outputs": [
    {
     "data": {
      "text/html": [
       "<div>\n",
       "<style scoped>\n",
       "    .dataframe tbody tr th:only-of-type {\n",
       "        vertical-align: middle;\n",
       "    }\n",
       "\n",
       "    .dataframe tbody tr th {\n",
       "        vertical-align: top;\n",
       "    }\n",
       "\n",
       "    .dataframe thead th {\n",
       "        text-align: right;\n",
       "    }\n",
       "</style>\n",
       "<table border=\"1\" class=\"dataframe\">\n",
       "  <thead>\n",
       "    <tr style=\"text-align: right;\">\n",
       "      <th></th>\n",
       "      <th>employee_number</th>\n",
       "      <th>resigned_in_6_mos</th>\n",
       "      <th>resigned_in_1_yr</th>\n",
       "      <th>resigned_in_2_yr</th>\n",
       "      <th>resigned_in_3_yr</th>\n",
       "      <th>client_code_CEB-CRG</th>\n",
       "      <th>client_code_CEB-EO</th>\n",
       "      <th>client_code_CEB-GEM</th>\n",
       "      <th>client_code_CEB-HR</th>\n",
       "      <th>client_code_CEB-MAB</th>\n",
       "      <th>...</th>\n",
       "      <th>latest_rate</th>\n",
       "      <th>oldest_rate</th>\n",
       "      <th>number_of_dependents</th>\n",
       "      <th>age_joining</th>\n",
       "      <th>months_company</th>\n",
       "      <th>overtime_ratio</th>\n",
       "      <th>years_company</th>\n",
       "      <th>percent_salary_increase</th>\n",
       "      <th>leave_ratio</th>\n",
       "      <th>jobstatus</th>\n",
       "    </tr>\n",
       "  </thead>\n",
       "  <tbody>\n",
       "    <tr>\n",
       "      <th>0</th>\n",
       "      <td>employee10</td>\n",
       "      <td>0</td>\n",
       "      <td>0</td>\n",
       "      <td>0</td>\n",
       "      <td>1</td>\n",
       "      <td>0</td>\n",
       "      <td>0</td>\n",
       "      <td>0</td>\n",
       "      <td>0</td>\n",
       "      <td>0</td>\n",
       "      <td>...</td>\n",
       "      <td>-0.216704</td>\n",
       "      <td>0.090948</td>\n",
       "      <td>0.0</td>\n",
       "      <td>0.000000</td>\n",
       "      <td>-0.007094</td>\n",
       "      <td>-0.586643</td>\n",
       "      <td>-0.007094</td>\n",
       "      <td>-0.625082</td>\n",
       "      <td>NaN</td>\n",
       "      <td>2</td>\n",
       "    </tr>\n",
       "    <tr>\n",
       "      <th>1</th>\n",
       "      <td>employee100</td>\n",
       "      <td>0</td>\n",
       "      <td>0</td>\n",
       "      <td>0</td>\n",
       "      <td>0</td>\n",
       "      <td>0</td>\n",
       "      <td>0</td>\n",
       "      <td>0</td>\n",
       "      <td>0</td>\n",
       "      <td>0</td>\n",
       "      <td>...</td>\n",
       "      <td>1.340653</td>\n",
       "      <td>-0.223213</td>\n",
       "      <td>0.0</td>\n",
       "      <td>-0.428571</td>\n",
       "      <td>1.055935</td>\n",
       "      <td>0.932917</td>\n",
       "      <td>1.055935</td>\n",
       "      <td>4.342318</td>\n",
       "      <td>0.047646</td>\n",
       "      <td>1</td>\n",
       "    </tr>\n",
       "    <tr>\n",
       "      <th>2</th>\n",
       "      <td>employee1000</td>\n",
       "      <td>0</td>\n",
       "      <td>0</td>\n",
       "      <td>1</td>\n",
       "      <td>1</td>\n",
       "      <td>0</td>\n",
       "      <td>0</td>\n",
       "      <td>0</td>\n",
       "      <td>0</td>\n",
       "      <td>0</td>\n",
       "      <td>...</td>\n",
       "      <td>-0.164316</td>\n",
       "      <td>-0.047544</td>\n",
       "      <td>0.0</td>\n",
       "      <td>1.071429</td>\n",
       "      <td>-0.199727</td>\n",
       "      <td>0.163815</td>\n",
       "      <td>-0.199727</td>\n",
       "      <td>-0.246658</td>\n",
       "      <td>3.395866</td>\n",
       "      <td>5</td>\n",
       "    </tr>\n",
       "    <tr>\n",
       "      <th>3</th>\n",
       "      <td>employee1001</td>\n",
       "      <td>0</td>\n",
       "      <td>0</td>\n",
       "      <td>0</td>\n",
       "      <td>0</td>\n",
       "      <td>0</td>\n",
       "      <td>0</td>\n",
       "      <td>0</td>\n",
       "      <td>0</td>\n",
       "      <td>0</td>\n",
       "      <td>...</td>\n",
       "      <td>2.273643</td>\n",
       "      <td>1.143545</td>\n",
       "      <td>0.0</td>\n",
       "      <td>-0.071429</td>\n",
       "      <td>0.856753</td>\n",
       "      <td>-0.451422</td>\n",
       "      <td>0.856753</td>\n",
       "      <td>3.491064</td>\n",
       "      <td>0.041572</td>\n",
       "      <td>1</td>\n",
       "    </tr>\n",
       "    <tr>\n",
       "      <th>4</th>\n",
       "      <td>employee1002</td>\n",
       "      <td>0</td>\n",
       "      <td>0</td>\n",
       "      <td>0</td>\n",
       "      <td>0</td>\n",
       "      <td>0</td>\n",
       "      <td>0</td>\n",
       "      <td>0</td>\n",
       "      <td>0</td>\n",
       "      <td>0</td>\n",
       "      <td>...</td>\n",
       "      <td>-0.042901</td>\n",
       "      <td>-0.223213</td>\n",
       "      <td>0.0</td>\n",
       "      <td>0.214286</td>\n",
       "      <td>0.145157</td>\n",
       "      <td>0.633411</td>\n",
       "      <td>0.145157</td>\n",
       "      <td>0.418717</td>\n",
       "      <td>2.343300</td>\n",
       "      <td>1</td>\n",
       "    </tr>\n",
       "  </tbody>\n",
       "</table>\n",
       "<p>5 rows × 78 columns</p>\n",
       "</div>"
      ],
      "text/plain": [
       "  employee_number  resigned_in_6_mos  resigned_in_1_yr  resigned_in_2_yr  \\\n",
       "0      employee10                  0                 0                 0   \n",
       "1     employee100                  0                 0                 0   \n",
       "2    employee1000                  0                 0                 1   \n",
       "3    employee1001                  0                 0                 0   \n",
       "4    employee1002                  0                 0                 0   \n",
       "\n",
       "   resigned_in_3_yr  client_code_CEB-CRG  client_code_CEB-EO  \\\n",
       "0                 1                    0                   0   \n",
       "1                 0                    0                   0   \n",
       "2                 1                    0                   0   \n",
       "3                 0                    0                   0   \n",
       "4                 0                    0                   0   \n",
       "\n",
       "   client_code_CEB-GEM  client_code_CEB-HR  client_code_CEB-MAB  ...  \\\n",
       "0                    0                   0                    0  ...   \n",
       "1                    0                   0                    0  ...   \n",
       "2                    0                   0                    0  ...   \n",
       "3                    0                   0                    0  ...   \n",
       "4                    0                   0                    0  ...   \n",
       "\n",
       "   latest_rate  oldest_rate  number_of_dependents  age_joining  \\\n",
       "0    -0.216704     0.090948                   0.0     0.000000   \n",
       "1     1.340653    -0.223213                   0.0    -0.428571   \n",
       "2    -0.164316    -0.047544                   0.0     1.071429   \n",
       "3     2.273643     1.143545                   0.0    -0.071429   \n",
       "4    -0.042901    -0.223213                   0.0     0.214286   \n",
       "\n",
       "   months_company  overtime_ratio  years_company  percent_salary_increase  \\\n",
       "0       -0.007094       -0.586643      -0.007094                -0.625082   \n",
       "1        1.055935        0.932917       1.055935                 4.342318   \n",
       "2       -0.199727        0.163815      -0.199727                -0.246658   \n",
       "3        0.856753       -0.451422       0.856753                 3.491064   \n",
       "4        0.145157        0.633411       0.145157                 0.418717   \n",
       "\n",
       "   leave_ratio  jobstatus  \n",
       "0          NaN          2  \n",
       "1     0.047646          1  \n",
       "2     3.395866          5  \n",
       "3     0.041572          1  \n",
       "4     2.343300          1  \n",
       "\n",
       "[5 rows x 78 columns]"
      ]
     },
     "execution_count": 34,
     "metadata": {},
     "output_type": "execute_result"
    }
   ],
   "source": [
    "#Merge scaled continuous variables, encoded categorical variables, and job status\n",
    "final_df = pd.merge(cat_df, norm_df, how='left', on='employee_number')\n",
    "final_df = pd.merge(final_df, status_df, how='left', on='employee_number')\n",
    "final_df.head()"
   ]
  },
  {
   "cell_type": "code",
   "execution_count": 35,
   "metadata": {},
   "outputs": [
    {
     "data": {
      "text/plain": [
       "employee_number                  0\n",
       "resigned_in_6_mos                0\n",
       "resigned_in_1_yr                 0\n",
       "resigned_in_2_yr                 0\n",
       "resigned_in_3_yr                 0\n",
       "client_code_CEB-CRG              0\n",
       "client_code_CEB-EO               0\n",
       "client_code_CEB-GEM              0\n",
       "client_code_CEB-HR               0\n",
       "client_code_CEB-MAB              0\n",
       "client_code_CEB-OSM              0\n",
       "client_code_CEB-PSD              0\n",
       "client_code_CEB-RMP              0\n",
       "client_code_CEB-SA               0\n",
       "client_code_CEB-STN              0\n",
       "client_code_MNL-CBS              0\n",
       "client_code_MNL-CSD              0\n",
       "client_code_MNL-GEM              0\n",
       "client_code_MNL-PSD              0\n",
       "client_code_MNL-RMP              0\n",
       "client_code_MNL-SC               0\n",
       "client_code_SKPI-AC              0\n",
       "client_code_SKPI-AF              0\n",
       "client_code_SKPI-CA              0\n",
       "client_code_SKPI-CF              0\n",
       "client_code_SKPI-CP              0\n",
       "client_code_SKPI-CS              0\n",
       "client_code_SKPI-FM              0\n",
       "client_code_SKPI-GE              0\n",
       "client_code_SKPI-GM              0\n",
       "                              ... \n",
       "client_code_SLPI-TR              0\n",
       "client_code_SLSS-SA              0\n",
       "client_code_SP                   0\n",
       "client_code_UA-MSC               0\n",
       "client_code_UA-PSD               0\n",
       "client_code_UA-RSD               0\n",
       "gender_F                         0\n",
       "gender_M                         0\n",
       "civil_status_Married             0\n",
       "civil_status_Others              0\n",
       "civil_status_Single              0\n",
       "position_Catering                0\n",
       "position_Customer relations      0\n",
       "position_Executives              0\n",
       "position_Finance                 0\n",
       "position_HR                      0\n",
       "position_Maintenance             0\n",
       "position_Manager                 0\n",
       "position_Others                  0\n",
       "position_Supervisor              0\n",
       "latest_rate                      0\n",
       "oldest_rate                      0\n",
       "number_of_dependents             0\n",
       "age_joining                      0\n",
       "months_company                   0\n",
       "overtime_ratio                 313\n",
       "years_company                    0\n",
       "percent_salary_increase          0\n",
       "leave_ratio                    867\n",
       "jobstatus                        0\n",
       "Length: 78, dtype: int64"
      ]
     },
     "execution_count": 35,
     "metadata": {},
     "output_type": "execute_result"
    }
   ],
   "source": [
    "#Check if there are missing values in final dataframe\n",
    "final_df.isnull().sum()"
   ]
  },
  {
   "cell_type": "code",
   "execution_count": 36,
   "metadata": {},
   "outputs": [],
   "source": [
    "#Fill missing values with 0\n",
    "final_df['leave_ratio'].fillna(0,inplace=True)\n",
    "final_df['overtime_ratio'].fillna(0,inplace=True)"
   ]
  },
  {
   "cell_type": "code",
   "execution_count": 37,
   "metadata": {},
   "outputs": [
    {
     "data": {
      "text/plain": [
       "(808, 78)"
      ]
     },
     "execution_count": 37,
     "metadata": {},
     "output_type": "execute_result"
    }
   ],
   "source": [
    "#For training the models, use attrition subset only (2 resigned, 5 terminated, 6 retired, 7 end of probation)\n",
    "attrition_df = final_df.loc[final_df['jobstatus'].isin([2,5,6,7])] \n",
    "active_df = final_df.loc[final_df['jobstatus']==1]\n",
    "attrition_df.shape"
   ]
  },
  {
   "cell_type": "code",
   "execution_count": 38,
   "metadata": {},
   "outputs": [],
   "source": [
    "from sklearn import model_selection as ms, linear_model as lm, tree, ensemble\n",
    "\n",
    "#Stratified 10-fold validation to evaluate model\n",
    "ten_fold_cv = ms.StratifiedKFold(n_splits=10, shuffle=True)"
   ]
  },
  {
   "cell_type": "code",
   "execution_count": 39,
   "metadata": {},
   "outputs": [],
   "source": [
    "#Assign inputs to X, outputs to y\n",
    "X6 = attrition_df.drop(['employee_number','jobstatus','years_company','months_company','resigned_in_6_mos', 'resigned_in_1_yr','resigned_in_2_yr', 'resigned_in_3_yr'],axis=1)\n",
    "y6 = attrition_df['resigned_in_6_mos']\n",
    "\n",
    "X1 = attrition_df.drop(['employee_number','jobstatus','years_company','months_company','resigned_in_6_mos', 'resigned_in_1_yr','resigned_in_2_yr', 'resigned_in_3_yr'],axis=1)\n",
    "y1 = attrition_df['resigned_in_1_yr']\n",
    "\n",
    "X2 = attrition_df.drop(['employee_number','jobstatus','years_company','months_company','resigned_in_6_mos', 'resigned_in_1_yr','resigned_in_2_yr', 'resigned_in_3_yr'],axis=1)\n",
    "y2 = attrition_df['resigned_in_2_yr']\n",
    "\n",
    "X3 = attrition_df.drop(['employee_number','jobstatus','years_company','months_company','resigned_in_6_mos', 'resigned_in_1_yr','resigned_in_2_yr', 'resigned_in_3_yr'],axis=1)\n",
    "y3 = attrition_df['resigned_in_3_yr']"
   ]
  },
  {
   "cell_type": "markdown",
   "metadata": {},
   "source": [
    "### 4.1 Logistic Regression"
   ]
  },
  {
   "cell_type": "markdown",
   "metadata": {},
   "source": [
    "#### 4.1.1 Resigned in 6 mos?"
   ]
  },
  {
   "cell_type": "code",
   "execution_count": 40,
   "metadata": {},
   "outputs": [
    {
     "name": "stderr",
     "output_type": "stream",
     "text": [
      "C:\\Users\\Rosiel Jazmine V\\Anaconda3\\lib\\site-packages\\sklearn\\svm\\base.py:931: ConvergenceWarning: Liblinear failed to converge, increase the number of iterations.\n",
      "  \"the number of iterations.\", ConvergenceWarning)\n",
      "C:\\Users\\Rosiel Jazmine V\\Anaconda3\\lib\\site-packages\\sklearn\\svm\\base.py:931: ConvergenceWarning: Liblinear failed to converge, increase the number of iterations.\n",
      "  \"the number of iterations.\", ConvergenceWarning)\n",
      "C:\\Users\\Rosiel Jazmine V\\Anaconda3\\lib\\site-packages\\sklearn\\svm\\base.py:931: ConvergenceWarning: Liblinear failed to converge, increase the number of iterations.\n",
      "  \"the number of iterations.\", ConvergenceWarning)\n",
      "C:\\Users\\Rosiel Jazmine V\\Anaconda3\\lib\\site-packages\\sklearn\\svm\\base.py:931: ConvergenceWarning: Liblinear failed to converge, increase the number of iterations.\n",
      "  \"the number of iterations.\", ConvergenceWarning)\n"
     ]
    },
    {
     "data": {
      "text/plain": [
       "0.727246853017401"
      ]
     },
     "execution_count": 40,
     "metadata": {},
     "output_type": "execute_result"
    }
   ],
   "source": [
    "logreg = lm.LogisticRegression(C=1e50, solver='liblinear')\n",
    "logreg.fit(X6,y6)\n",
    "aucs = ms.cross_val_score(lm.LogisticRegression(C=1e50, solver='liblinear'), X6, y6, scoring='roc_auc', cv=ten_fold_cv)\n",
    "np.mean(aucs)"
   ]
  },
  {
   "cell_type": "markdown",
   "metadata": {},
   "source": [
    "#### 4.1.2 Resigned in 1 yr?"
   ]
  },
  {
   "cell_type": "code",
   "execution_count": 41,
   "metadata": {},
   "outputs": [
    {
     "data": {
      "text/plain": [
       "0.7952074592074592"
      ]
     },
     "execution_count": 41,
     "metadata": {},
     "output_type": "execute_result"
    }
   ],
   "source": [
    "logreg = lm.LogisticRegression(C=1e50, solver='liblinear')\n",
    "logreg.fit(X1,y1)\n",
    "aucs = ms.cross_val_score(lm.LogisticRegression(C=1e50, solver='liblinear'), X1, y1, scoring='roc_auc', cv=ten_fold_cv)\n",
    "np.mean(aucs)"
   ]
  },
  {
   "cell_type": "markdown",
   "metadata": {},
   "source": [
    "#### 4.1.3 Resigned in 2 yrs?"
   ]
  },
  {
   "cell_type": "code",
   "execution_count": 42,
   "metadata": {},
   "outputs": [
    {
     "data": {
      "text/plain": [
       "0.7898200447287668"
      ]
     },
     "execution_count": 42,
     "metadata": {},
     "output_type": "execute_result"
    }
   ],
   "source": [
    "logreg = lm.LogisticRegression(C=1e50, solver='liblinear')\n",
    "logreg.fit(X2,y2)\n",
    "aucs = ms.cross_val_score(lm.LogisticRegression(C=1e50, solver='liblinear'), X2, y2, scoring='roc_auc', cv=ten_fold_cv)\n",
    "np.mean(aucs)"
   ]
  },
  {
   "cell_type": "markdown",
   "metadata": {},
   "source": [
    "#### 4.1.4 Resigned in 3 yrs?"
   ]
  },
  {
   "cell_type": "code",
   "execution_count": 43,
   "metadata": {},
   "outputs": [
    {
     "data": {
      "text/plain": [
       "0.7746952336281604"
      ]
     },
     "execution_count": 43,
     "metadata": {},
     "output_type": "execute_result"
    }
   ],
   "source": [
    "logreg = lm.LogisticRegression(C=1e50, solver='liblinear')\n",
    "logreg.fit(X3,y3)\n",
    "aucs = ms.cross_val_score(lm.LogisticRegression(C=1e50, solver='liblinear'), X3, y3, scoring='roc_auc', cv=ten_fold_cv)\n",
    "np.mean(aucs)"
   ]
  },
  {
   "cell_type": "markdown",
   "metadata": {},
   "source": [
    "### 4.2 Decision Trees Classification"
   ]
  },
  {
   "cell_type": "markdown",
   "metadata": {},
   "source": [
    "#### 4.2.1 Resigned in 6 mos?"
   ]
  },
  {
   "cell_type": "code",
   "execution_count": 44,
   "metadata": {},
   "outputs": [
    {
     "data": {
      "text/plain": [
       "0.6505487385624372"
      ]
     },
     "execution_count": 44,
     "metadata": {},
     "output_type": "execute_result"
    }
   ],
   "source": [
    "tree6 = tree.DecisionTreeClassifier()\n",
    "tree6.fit(X6, y6)\n",
    "aucs = ms.cross_val_score(tree.DecisionTreeClassifier(), X6, y6, scoring='roc_auc', cv=ten_fold_cv)\n",
    "np.mean(aucs)"
   ]
  },
  {
   "cell_type": "markdown",
   "metadata": {},
   "source": [
    "#### 4.2.2 Resigned in 1 yr?"
   ]
  },
  {
   "cell_type": "code",
   "execution_count": 45,
   "metadata": {},
   "outputs": [
    {
     "data": {
      "text/plain": [
       "0.7264599844599845"
      ]
     },
     "execution_count": 45,
     "metadata": {},
     "output_type": "execute_result"
    }
   ],
   "source": [
    "tree1 = tree.DecisionTreeClassifier()\n",
    "tree1.fit(X1, y1)\n",
    "aucs = ms.cross_val_score(tree.DecisionTreeClassifier(), X1, y1, scoring='roc_auc', cv=ten_fold_cv)\n",
    "np.mean(aucs)"
   ]
  },
  {
   "cell_type": "markdown",
   "metadata": {},
   "source": [
    "#### 4.2.3 Resigned in 2 yrs?"
   ]
  },
  {
   "cell_type": "code",
   "execution_count": 46,
   "metadata": {},
   "outputs": [
    {
     "data": {
      "text/plain": [
       "0.7299931086492952"
      ]
     },
     "execution_count": 46,
     "metadata": {},
     "output_type": "execute_result"
    }
   ],
   "source": [
    "tree2 = tree.DecisionTreeClassifier()\n",
    "tree2.fit(X2, y2)\n",
    "aucs = ms.cross_val_score(tree.DecisionTreeClassifier(), X2, y2, scoring='roc_auc', cv=ten_fold_cv)\n",
    "np.mean(aucs)"
   ]
  },
  {
   "cell_type": "markdown",
   "metadata": {},
   "source": [
    "#### 4.2.4 Resigned in 3 yrs?"
   ]
  },
  {
   "cell_type": "code",
   "execution_count": 47,
   "metadata": {},
   "outputs": [
    {
     "data": {
      "text/plain": [
       "0.8016102139730188"
      ]
     },
     "execution_count": 47,
     "metadata": {},
     "output_type": "execute_result"
    }
   ],
   "source": [
    "tree3 = tree.DecisionTreeClassifier()\n",
    "tree3.fit(X3, y3)\n",
    "aucs = ms.cross_val_score(tree.DecisionTreeClassifier(), X3, y3, scoring='roc_auc', cv=ten_fold_cv)\n",
    "np.mean(aucs)"
   ]
  },
  {
   "cell_type": "markdown",
   "metadata": {},
   "source": [
    "### 4.3 Random Forest Classification"
   ]
  },
  {
   "cell_type": "markdown",
   "metadata": {},
   "source": [
    "#### 4.3.1 Resigned in 6 mos?"
   ]
  },
  {
   "cell_type": "code",
   "execution_count": 48,
   "metadata": {},
   "outputs": [
    {
     "name": "stdout",
     "output_type": "stream",
     "text": [
      "  2 trees: mean AUC 67.02%\n",
      "  5 trees: mean AUC 76.60%\n",
      " 10 trees: mean AUC 81.88%\n",
      " 20 trees: mean AUC 84.16%\n",
      " 50 trees: mean AUC 85.31%\n",
      "100 trees: mean AUC 85.54%\n"
     ]
    }
   ],
   "source": [
    "for n_trees in [2, 5, 10, 20, 50, 100]:\n",
    "    aucs = ms.cross_val_score(\n",
    "        ensemble.RandomForestClassifier(n_estimators=n_trees), X6, y6, scoring='roc_auc', cv=ten_fold_cv)\n",
    "    print('{:>3} trees: mean AUC {:.2%}'.format(n_trees, np.mean(aucs)))"
   ]
  },
  {
   "cell_type": "markdown",
   "metadata": {},
   "source": [
    "#### 4.3.2 Resigned in 1 yr?"
   ]
  },
  {
   "cell_type": "code",
   "execution_count": 49,
   "metadata": {},
   "outputs": [
    {
     "name": "stdout",
     "output_type": "stream",
     "text": [
      "  2 trees: mean AUC 78.33%\n",
      "  5 trees: mean AUC 80.69%\n",
      " 10 trees: mean AUC 83.58%\n",
      " 20 trees: mean AUC 84.25%\n",
      " 50 trees: mean AUC 84.99%\n",
      "100 trees: mean AUC 85.63%\n"
     ]
    }
   ],
   "source": [
    "for n_trees in [2, 5, 10, 20, 50, 100]:\n",
    "    aucs = ms.cross_val_score(\n",
    "        ensemble.RandomForestClassifier(n_estimators=n_trees), X1, y1, scoring='roc_auc', cv=ten_fold_cv)\n",
    "    print('{:>3} trees: mean AUC {:.2%}'.format(n_trees, np.mean(aucs)))"
   ]
  },
  {
   "cell_type": "markdown",
   "metadata": {},
   "source": [
    "#### 4.3.3 Resigned in 2 yrs?"
   ]
  },
  {
   "cell_type": "code",
   "execution_count": 50,
   "metadata": {},
   "outputs": [
    {
     "name": "stdout",
     "output_type": "stream",
     "text": [
      "  2 trees: mean AUC 79.64%\n",
      "  5 trees: mean AUC 81.17%\n",
      " 10 trees: mean AUC 83.86%\n",
      " 20 trees: mean AUC 84.72%\n",
      " 50 trees: mean AUC 84.71%\n",
      "100 trees: mean AUC 85.48%\n"
     ]
    }
   ],
   "source": [
    "for n_trees in [2, 5, 10, 20, 50, 100]:\n",
    "    aucs = ms.cross_val_score(\n",
    "        ensemble.RandomForestClassifier(n_estimators=n_trees), X2, y2, scoring='roc_auc', cv=ten_fold_cv)\n",
    "    print('{:>3} trees: mean AUC {:.2%}'.format(n_trees, np.mean(aucs)))"
   ]
  },
  {
   "cell_type": "markdown",
   "metadata": {},
   "source": [
    "#### 4.3.4 Resigned in 3 yrs?"
   ]
  },
  {
   "cell_type": "code",
   "execution_count": 51,
   "metadata": {},
   "outputs": [
    {
     "name": "stdout",
     "output_type": "stream",
     "text": [
      "  2 trees: mean AUC 79.83%\n",
      "  5 trees: mean AUC 86.78%\n",
      " 10 trees: mean AUC 87.92%\n",
      " 20 trees: mean AUC 88.70%\n",
      " 50 trees: mean AUC 89.35%\n",
      "100 trees: mean AUC 88.78%\n"
     ]
    }
   ],
   "source": [
    "for n_trees in [2, 5, 10, 20, 50, 100]:\n",
    "    aucs = ms.cross_val_score(\n",
    "        ensemble.RandomForestClassifier(n_estimators=n_trees), X3, y3, scoring='roc_auc', cv=ten_fold_cv)\n",
    "    print('{:>3} trees: mean AUC {:.2%}'.format(n_trees, np.mean(aucs)))"
   ]
  }
 ],
 "metadata": {
  "kernelspec": {
   "display_name": "Python 3",
   "language": "python",
   "name": "python3"
  },
  "language_info": {
   "codemirror_mode": {
    "name": "ipython",
    "version": 3
   },
   "file_extension": ".py",
   "mimetype": "text/x-python",
   "name": "python",
   "nbconvert_exporter": "python",
   "pygments_lexer": "ipython3",
   "version": "3.7.3"
  },
  "toc": {
   "base_numbering": 1,
   "nav_menu": {},
   "number_sections": false,
   "sideBar": true,
   "skip_h1_title": false,
   "title_cell": "Table of Contents",
   "title_sidebar": "Contents",
   "toc_cell": false,
   "toc_position": {},
   "toc_section_display": true,
   "toc_window_display": false
  }
 },
 "nbformat": 4,
 "nbformat_minor": 2
}
